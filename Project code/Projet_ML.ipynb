{
  "cells": [
    {
      "cell_type": "markdown",
      "id": "9457fdc4-1690-4c41-8e88-1597fc2a687c",
      "metadata": {
        "id": "9457fdc4-1690-4c41-8e88-1597fc2a687c"
      },
      "source": [
        " # MPA-MLF, Lab 7 - Convolutional Neural Network"
      ]
    },
    {
      "cell_type": "code",
      "execution_count": 2,
      "id": "4l4g9Ya4pNMI",
      "metadata": {
        "colab": {
          "base_uri": "https://localhost:8080/"
        },
        "id": "4l4g9Ya4pNMI",
        "outputId": "c80e156c-418f-4885-91f3-a16f6216301f"
      },
      "outputs": [
        {
          "output_type": "stream",
          "name": "stdout",
          "text": [
            "Mounted at /content/drive\n"
          ]
        }
      ],
      "source": [
        "from google.colab import drive\n",
        "drive.mount('/content/drive', force_remount=True)"
      ]
    },
    {
      "cell_type": "markdown",
      "id": "b724de14-3931-4983-b443-7e0106d190dc",
      "metadata": {
        "id": "b724de14-3931-4983-b443-7e0106d190dc"
      },
      "source": [
        "0. Import libraries"
      ]
    },
    {
      "cell_type": "code",
      "execution_count": 3,
      "id": "1f692dd4-0262-4e7a-b029-69d8280f14d2",
      "metadata": {
        "id": "1f692dd4-0262-4e7a-b029-69d8280f14d2"
      },
      "outputs": [],
      "source": [
        "from tensorflow import keras\n",
        "from keras.models import Sequential\n",
        "import numpy as np\n",
        "import matplotlib\n",
        "import matplotlib.pyplot as plt\n",
        "###################################\n",
        "# Write your own code here #\n",
        "\n",
        "\n",
        "import zipfile\n",
        "import os\n",
        "import pandas as pd\n",
        "from PIL import Image\n",
        "from keras.utils import image_dataset_from_directory\n",
        "\n",
        "\n",
        "from keras.utils import to_categorical\n",
        "from keras.layers import Conv2D, MaxPooling2D, Flatten, Dense, Dropout, LeakyReLU\n",
        "from keras.optimizers import Adamax,Adam, SGD\n",
        "from keras.callbacks import EarlyStopping\n",
        "\n",
        "\n",
        "###################################\n",
        "font = {'weight' : 'bold',\n",
        "        'size'   : 12}\n",
        "\n",
        "matplotlib.rc('font', **font)"
      ]
    },
    {
      "cell_type": "code",
      "source": [
        "def formatNamesIntoNumbers(name):\n",
        "  value=\"\"\n",
        "  if type(name)!=float:\n",
        "    for element in name:\n",
        "      if element==\"0\" or element==\"1\" or element==\"2\" or element==\"3\" or element==\"4\" or element==\"5\" or element==\"6\" or element==\"7\" or element==\"8\" or element==\"9\":\n",
        "        value=value + str(element)\n",
        "  return int(value)\n",
        "\n",
        "\n",
        "\n",
        "X_train=[]\n",
        "train_items = os.listdir(\"/content/drive/MyDrive/data_projet/train/train_data_unlabeled\")\n",
        "formatted_format_items=[]\n",
        "for name in train_items:\n",
        "  formatted_format_items.append(formatNamesIntoNumbers(name))\n",
        "\n",
        "\n",
        "train_sorted_items = sorted(formatted_format_items)\n",
        "\n",
        "for image in train_sorted_items:\n",
        "  image=\"img_\"+str(image)+\".png\"\n",
        "  path=\"/content/drive/MyDrive/data_projet/train/train_data_unlabeled/\"+str(image)\n",
        "  im=Image.open(path)\n",
        "  im1=np.asarray(im)\n",
        "  im.close()\n",
        "  im1=im1[:,:,:3]\n",
        "  X_train.append(im1)\n",
        "\n",
        "X_train=np.asarray(X_train)\n",
        "\n",
        "\n",
        "X_test=[]\n",
        "test_items = os.listdir(\"/content/drive/MyDrive/data_projet/test/test_data_unlabeled\")\n",
        "\n",
        "formatted_format_items=[]\n",
        "for name in test_items:\n",
        "  formatted_format_items.append(formatNamesIntoNumbers(name))\n",
        "\n",
        "\n",
        "test_sorted_items = sorted(formatted_format_items)\n",
        "\n",
        "for image in test_sorted_items:\n",
        "  image=\"img_\"+str(image)+\".png\"\n",
        "  path=\"/content/drive/MyDrive/data_projet/test/test_data_unlabeled/\"+str(image)\n",
        "  im=Image.open(path)\n",
        "  im1=np.asarray(im)\n",
        "  im.close()\n",
        "  im1=im1[:,:,:3]\n",
        "  X_test.append(im1)\n",
        "\n",
        "X_test=np.asarray(X_test)\n",
        "\n",
        "\n"
      ],
      "metadata": {
        "id": "3AXyU9S9YQFI"
      },
      "id": "3AXyU9S9YQFI",
      "execution_count": 5,
      "outputs": []
    },
    {
      "cell_type": "code",
      "source": [
        "X_train_scaled = X_train.astype('float32') / 255.0\n",
        "X_test_scaled = X_test.astype('float32') / 255.0\n",
        "\n",
        "y_train=pd.DataFrame(pd.read_csv(\"/content/drive/MyDrive/data_projet/y_train.csv\"))\n",
        "y_train=y_train.drop(\"id\", axis=1)\n",
        "\n",
        "y_train_encoded = to_categorical(y_train, num_classes=4)\n"
      ],
      "metadata": {
        "id": "mpWep_BjboQD"
      },
      "id": "mpWep_BjboQD",
      "execution_count": 6,
      "outputs": []
    },
    {
      "cell_type": "code",
      "execution_count": 7,
      "id": "77238bdf-ad74-4246-920d-a1dc28564306",
      "metadata": {
        "id": "77238bdf-ad74-4246-920d-a1dc28564306"
      },
      "outputs": [],
      "source": [
        "model = Sequential()\n",
        "###################################\n",
        "\n",
        "model.add(Conv2D(64,kernel_size=(3, 3), activation='linear', input_shape=(45,51,3)))\n",
        "model.add(MaxPooling2D(pool_size=(4, 4)))\n",
        "\n",
        "model.add(Conv2D(128,kernel_size=(3, 3), activation='linear',input_shape=(45,51,3)))\n",
        "model.add(MaxPooling2D(pool_size=(2, 2)))\n",
        "\n",
        "model.add(Conv2D(256,kernel_size=(3, 3), activation='linear',input_shape=(45,51,3)))\n",
        "model.add(MaxPooling2D(pool_size=(2, 2)))\n",
        "\n",
        "model.add(Flatten())\n",
        "\n",
        "model.add(Dense(128, activation='sigmoid'))\n",
        "model.add(Dense(256, activation='softplus'))\n",
        "model.add(Dropout(0.1))\n",
        "model.add(Dense(128, activation='softplus'))\n",
        "model.add(Dense(4, activation='softmax'))\n",
        "\n",
        "###################################\n"
      ]
    },
    {
      "cell_type": "markdown",
      "id": "fde4b3eb-90e1-4724-89df-0db1872560d4",
      "metadata": {
        "id": "fde4b3eb-90e1-4724-89df-0db1872560d4"
      },
      "source": [
        "#### 2.2 Compile the model"
      ]
    },
    {
      "cell_type": "code",
      "execution_count": 19,
      "id": "e6d1a924-9e2f-4ca2-b4d6-4724f51ae065",
      "metadata": {
        "id": "e6d1a924-9e2f-4ca2-b4d6-4724f51ae065",
        "colab": {
          "base_uri": "https://localhost:8080/"
        },
        "outputId": "c0f38f16-72b1-4259-841f-49c422ba5f17"
      },
      "outputs": [
        {
          "output_type": "stream",
          "name": "stdout",
          "text": [
            "Model: \"sequential\"\n",
            "_________________________________________________________________\n",
            " Layer (type)                Output Shape              Param #   \n",
            "=================================================================\n",
            " conv2d (Conv2D)             (None, 43, 49, 64)        1792      \n",
            "                                                                 \n",
            " max_pooling2d (MaxPooling2  (None, 10, 12, 64)        0         \n",
            " D)                                                              \n",
            "                                                                 \n",
            " conv2d_1 (Conv2D)           (None, 8, 10, 128)        73856     \n",
            "                                                                 \n",
            " max_pooling2d_1 (MaxPoolin  (None, 4, 5, 128)         0         \n",
            " g2D)                                                            \n",
            "                                                                 \n",
            " conv2d_2 (Conv2D)           (None, 2, 3, 256)         295168    \n",
            "                                                                 \n",
            " max_pooling2d_2 (MaxPoolin  (None, 1, 1, 256)         0         \n",
            " g2D)                                                            \n",
            "                                                                 \n",
            " flatten (Flatten)           (None, 256)               0         \n",
            "                                                                 \n",
            " dense (Dense)               (None, 128)               32896     \n",
            "                                                                 \n",
            " dense_1 (Dense)             (None, 256)               33024     \n",
            "                                                                 \n",
            " dropout (Dropout)           (None, 256)               0         \n",
            "                                                                 \n",
            " dense_2 (Dense)             (None, 128)               32896     \n",
            "                                                                 \n",
            " dense_3 (Dense)             (None, 4)                 516       \n",
            "                                                                 \n",
            "=================================================================\n",
            "Total params: 470148 (1.79 MB)\n",
            "Trainable params: 470148 (1.79 MB)\n",
            "Non-trainable params: 0 (0.00 Byte)\n",
            "_________________________________________________________________\n"
          ]
        }
      ],
      "source": [
        "\n",
        "###################################\n",
        "# Write your own code here #\n",
        "\n",
        "optimizer = Adam(learning_rate = 0.001)\n",
        "model.compile(loss='categorical_crossentropy', optimizer=optimizer, metrics=['accuracy'])\n",
        "\n",
        "###################################\n",
        "#For some reason I can not launch it at that point without a crash\n",
        "model.summary()"
      ]
    },
    {
      "cell_type": "markdown",
      "id": "f146b70f-2e8c-484f-abfd-6fc4a8b8177b",
      "metadata": {
        "id": "f146b70f-2e8c-484f-abfd-6fc4a8b8177b"
      },
      "source": [
        "### 3. Training stage"
      ]
    },
    {
      "cell_type": "markdown",
      "id": "cb1de787-9e40-47e2-bc54-44ccd1864357",
      "metadata": {
        "id": "cb1de787-9e40-47e2-bc54-44ccd1864357"
      },
      "source": [
        "#### 3.1 Model training"
      ]
    },
    {
      "cell_type": "code",
      "execution_count": 44,
      "id": "4f858566-601d-4873-ad02-a0635bd8f526",
      "metadata": {
        "id": "4f858566-601d-4873-ad02-a0635bd8f526",
        "colab": {
          "base_uri": "https://localhost:8080/"
        },
        "outputId": "98732f9b-641f-485d-9454-83a9562ad03a"
      },
      "outputs": [
        {
          "output_type": "stream",
          "name": "stdout",
          "text": [
            "Epoch 1/20\n",
            "44/44 [==============================] - 1s 29ms/step - loss: 4.4192e-06 - accuracy: 1.0000 - val_loss: 0.1862 - val_accuracy: 0.9762\n",
            "Epoch 2/20\n",
            "44/44 [==============================] - 1s 23ms/step - loss: 3.9987e-06 - accuracy: 1.0000 - val_loss: 0.1883 - val_accuracy: 0.9756\n",
            "Epoch 3/20\n",
            "44/44 [==============================] - 1s 23ms/step - loss: 4.4903e-06 - accuracy: 1.0000 - val_loss: 0.1876 - val_accuracy: 0.9768\n",
            "Epoch 4/20\n",
            "44/44 [==============================] - 1s 24ms/step - loss: 3.9674e-06 - accuracy: 1.0000 - val_loss: 0.1900 - val_accuracy: 0.9753\n",
            "Epoch 5/20\n",
            "44/44 [==============================] - 1s 26ms/step - loss: 4.7215e-06 - accuracy: 1.0000 - val_loss: 0.1902 - val_accuracy: 0.9753\n",
            "Epoch 6/20\n",
            "44/44 [==============================] - 1s 27ms/step - loss: 4.5217e-06 - accuracy: 1.0000 - val_loss: 0.1892 - val_accuracy: 0.9759\n",
            "Epoch 7/20\n",
            "44/44 [==============================] - 1s 25ms/step - loss: 3.9046e-06 - accuracy: 1.0000 - val_loss: 0.1906 - val_accuracy: 0.9756\n",
            "Epoch 8/20\n",
            "44/44 [==============================] - 1s 23ms/step - loss: 3.7559e-06 - accuracy: 1.0000 - val_loss: 0.1916 - val_accuracy: 0.9759\n",
            "Epoch 9/20\n",
            "44/44 [==============================] - 1s 23ms/step - loss: 5.9808e-06 - accuracy: 1.0000 - val_loss: 0.1868 - val_accuracy: 0.9759\n",
            "Epoch 10/20\n",
            "44/44 [==============================] - 1s 22ms/step - loss: 3.9162e-06 - accuracy: 1.0000 - val_loss: 0.1938 - val_accuracy: 0.9762\n",
            "Epoch 11/20\n",
            "44/44 [==============================] - 1s 23ms/step - loss: 3.6140e-06 - accuracy: 1.0000 - val_loss: 0.1917 - val_accuracy: 0.9765\n",
            "Epoch 12/20\n",
            "44/44 [==============================] - 1s 23ms/step - loss: 3.0656e-06 - accuracy: 1.0000 - val_loss: 0.1944 - val_accuracy: 0.9762\n",
            "Epoch 13/20\n",
            "44/44 [==============================] - 1s 23ms/step - loss: 3.4654e-06 - accuracy: 1.0000 - val_loss: 0.1955 - val_accuracy: 0.9762\n",
            "Epoch 14/20\n",
            "44/44 [==============================] - 1s 23ms/step - loss: 2.9271e-06 - accuracy: 1.0000 - val_loss: 0.1962 - val_accuracy: 0.9756\n",
            "Epoch 15/20\n",
            "44/44 [==============================] - 1s 23ms/step - loss: 2.9810e-06 - accuracy: 1.0000 - val_loss: 0.1956 - val_accuracy: 0.9762\n",
            "Epoch 16/20\n",
            "44/44 [==============================] - 1s 22ms/step - loss: 3.4120e-06 - accuracy: 1.0000 - val_loss: 0.1952 - val_accuracy: 0.9762\n",
            "Epoch 17/20\n",
            "44/44 [==============================] - 1s 25ms/step - loss: 3.1027e-06 - accuracy: 1.0000 - val_loss: 0.1978 - val_accuracy: 0.9762\n"
          ]
        }
      ],
      "source": [
        "###################################\n",
        "# Write your own code here #\n",
        "callback = EarlyStopping(monitor='loss', patience=3)\n",
        "history = model.fit(X_train_scaled, y_train_encoded, epochs=20, batch_size= 300, validation_split = 0.2, callbacks=[callback])\n",
        "\n",
        "\n",
        "###################################"
      ]
    },
    {
      "cell_type": "markdown",
      "id": "45651f2d-5cc4-4896-8edc-f58b50fed605",
      "metadata": {
        "id": "45651f2d-5cc4-4896-8edc-f58b50fed605"
      },
      "source": [
        "#### 3.1 Model Prediction"
      ]
    },
    {
      "cell_type": "code",
      "source": [
        "predictions = model.predict(X_test_scaled)\n",
        "predictions"
      ],
      "metadata": {
        "id": "MGb-c4lrX3i2",
        "colab": {
          "base_uri": "https://localhost:8080/"
        },
        "outputId": "e3304d82-0c6c-44f3-d1b1-a455c14d30c7"
      },
      "id": "MGb-c4lrX3i2",
      "execution_count": 40,
      "outputs": [
        {
          "output_type": "stream",
          "name": "stdout",
          "text": [
            "150/150 [==============================] - 0s 2ms/step\n"
          ]
        },
        {
          "output_type": "execute_result",
          "data": {
            "text/plain": [
              "array([[6.22362405e-14, 1.00000000e+00, 1.28583135e-08, 7.57733991e-14],\n",
              "       [6.79430538e-14, 2.07874683e-16, 9.42345594e-12, 1.00000000e+00],\n",
              "       [1.36318783e-15, 4.90147630e-19, 1.27804227e-14, 1.00000000e+00],\n",
              "       ...,\n",
              "       [1.00000000e+00, 3.45855578e-25, 5.80031179e-15, 2.67847439e-10],\n",
              "       [1.00000000e+00, 3.03358088e-25, 1.00992233e-13, 2.53950083e-10],\n",
              "       [3.28630922e-09, 3.34416006e-09, 1.00000000e+00, 7.02742308e-14]],\n",
              "      dtype=float32)"
            ]
          },
          "metadata": {},
          "execution_count": 40
        }
      ]
    },
    {
      "cell_type": "code",
      "source": [
        "plt.figure()\n",
        "plt.plot(history.history['loss'])\n",
        "plt.plot(history.history['val_loss'])"
      ],
      "metadata": {
        "colab": {
          "base_uri": "https://localhost:8080/",
          "height": 451
        },
        "id": "Ab4EvPkppFRL",
        "outputId": "0ca82439-6c0e-4a1f-cd25-be00bee68012"
      },
      "id": "Ab4EvPkppFRL",
      "execution_count": 41,
      "outputs": [
        {
          "output_type": "execute_result",
          "data": {
            "text/plain": [
              "[<matplotlib.lines.Line2D at 0x7a152b750a60>]"
            ]
          },
          "metadata": {},
          "execution_count": 41
        },
        {
          "output_type": "display_data",
          "data": {
            "text/plain": [
              "<Figure size 640x480 with 1 Axes>"
            ],
            "image/png": "[encoded data removed]"
          },
          "metadata": {}
        }
      ]
    },
    {
      "cell_type": "code",
      "source": [
        "plt.figure()\n",
        "plt.plot(history.history['accuracy'])\n",
        "plt.plot(history.history['val_accuracy'])"
      ],
      "metadata": {
        "colab": {
          "base_uri": "https://localhost:8080/",
          "height": 451
        },
        "id": "0Ai0ASEppO-S",
        "outputId": "d96b1a1f-f964-40f6-9b29-fe4e9f9a4b7d"
      },
      "id": "0Ai0ASEppO-S",
      "execution_count": 42,
      "outputs": [
        {
          "output_type": "execute_result",
          "data": {
            "text/plain": [
              "[<matplotlib.lines.Line2D at 0x7a152b6aa770>]"
            ]
          },
          "metadata": {},
          "execution_count": 42
        },
        {
          "output_type": "display_data",
          "data": {
            "text/plain": [
              "<Figure size 640x480 with 1 Axes>"
            ],
            "image/png": "[encoded data removed]"
          },
          "metadata": {}
        }
      ]
    },
    {
      "cell_type": "code",
      "execution_count": 38,
      "id": "841d1e30-e448-4b53-b3fc-9b97863391bb",
      "metadata": {
        "id": "841d1e30-e448-4b53-b3fc-9b97863391bb"
      },
      "outputs": [],
      "source": [
        "###################################\n",
        " #CSV Creation\n",
        "id = range(len(predictions))\n",
        "answers=[]\n",
        "for loop in predictions:\n",
        "  max=0\n",
        "  count=0\n",
        "  for j in range(len(loop)):\n",
        "    if loop[j]>max:\n",
        "      max=loop[j]\n",
        "      count=j\n",
        "  answers.append(count)\n",
        "\n",
        "df = pd.DataFrame({'id': id, 'target': answers})\n",
        "\n",
        "df.to_csv('X_test.csv', index=False)\n",
        "\n",
        "###################################"
      ]
    }
  ],
  "metadata": {
    "colab": {
      "provenance": [],
      "gpuType": "T4"
    },
    "kernelspec": {
      "display_name": "Python 3",
      "name": "python3"
    },
    "language_info": {
      "codemirror_mode": {
        "name": "ipython",
        "version": 3
      },
      "file_extension": ".py",
      "mimetype": "text/x-python",
      "name": "python",
      "nbconvert_exporter": "python",
      "pygments_lexer": "ipython3",
      "version": "3.10.12"
    },
    "accelerator": "GPU"
  },
  "nbformat": 4,
  "nbformat_minor": 5
}