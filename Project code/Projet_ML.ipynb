{
  "cells": [
    {
      "cell_type": "markdown",
      "id": "9457fdc4-1690-4c41-8e88-1597fc2a687c",
      "metadata": {
        "id": "9457fdc4-1690-4c41-8e88-1597fc2a687c"
      },
      "source": [
        " # MPA-MLF, Lab 7 - Convolutional Neural Network"
      ]
    },
    {
      "cell_type": "code",
      "execution_count": 2,
      "id": "4l4g9Ya4pNMI",
      "metadata": {
        "colab": {
          "base_uri": "https://localhost:8080/"
        },
        "id": "4l4g9Ya4pNMI",
        "outputId": "b5dbc720-3142-422f-97c0-487ae89f2f33"
      },
      "outputs": [
        {
          "output_type": "stream",
          "name": "stdout",
          "text": [
            "Mounted at /content/drive\n"
          ]
        }
      ],
      "source": [
        "from google.colab import drive\n",
        "drive.mount('/content/drive', force_remount=True)"
      ]
    },
    {
      "cell_type": "markdown",
      "id": "b724de14-3931-4983-b443-7e0106d190dc",
      "metadata": {
        "id": "b724de14-3931-4983-b443-7e0106d190dc"
      },
      "source": [
        "0. Import libraries"
      ]
    },
    {
      "cell_type": "code",
      "execution_count": 3,
      "id": "1f692dd4-0262-4e7a-b029-69d8280f14d2",
      "metadata": {
        "id": "1f692dd4-0262-4e7a-b029-69d8280f14d2"
      },
      "outputs": [],
      "source": [
        "from tensorflow import keras\n",
        "from keras.models import Sequential\n",
        "import numpy as np\n",
        "import matplotlib\n",
        "import matplotlib.pyplot as plt\n",
        "###################################\n",
        "# Write your own code here #\n",
        "\n",
        "\n",
        "import zipfile\n",
        "import os\n",
        "import pandas as pd\n",
        "from PIL import Image\n",
        "from keras.utils import image_dataset_from_directory\n",
        "\n",
        "\n",
        "from keras.utils import to_categorical\n",
        "from keras.layers import Conv2D, MaxPooling2D, Flatten, Dense, Dropout, LeakyReLU\n",
        "from keras.optimizers import Adamax,Adam, SGD\n",
        "from keras.callbacks import EarlyStopping\n",
        "\n",
        "\n",
        "###################################\n",
        "font = {'weight' : 'bold',\n",
        "        'size'   : 12}\n",
        "\n",
        "matplotlib.rc('font', **font)"
      ]
    },
    {
      "cell_type": "code",
      "source": [
        "def formatNamesIntoNumbers(name):\n",
        "  value=\"\"\n",
        "  if type(name)!=float: #To avoid NaN\n",
        "    for element in name:\n",
        "      if element==\"0\" or element==\"1\" or element==\"2\" or element==\"3\" or element==\"4\" or element==\"5\" or element==\"6\" or element==\"7\" or element==\"8\" or element==\"9\":\n",
        "        value=value + str(element)\n",
        "  return int(value)\n",
        "\n",
        "\n",
        "items = os.listdir(\"/content/drive/MyDrive/data_projet/test/test_data_unlabeled\")\n",
        "formattedItems=[]\n",
        "\n",
        "for name in items:\n",
        "  formattedItems.append(formatNamesIntoNumbers(name))\n",
        "\n",
        "\n",
        "print(formattedItems)\n",
        "\n",
        "\n",
        "\n",
        "\n",
        "sorted_items = sorted(formattedItems)\n",
        "\n",
        "\n",
        "count=0\n",
        "for image in sorted_items:\n",
        "  count+=1\n",
        "  if count>50:\n",
        "    break\n",
        "  print(count)\n",
        "  print(image)"
      ],
      "metadata": {
        "id": "9Piqym1CfD7k"
      },
      "id": "9Piqym1CfD7k",
      "execution_count": null,
      "outputs": []
    },
    {
      "cell_type": "code",
      "source": [
        "def formatNamesIntoNumbers(name):\n",
        "  value=\"\"\n",
        "  if type(name)!=float:\n",
        "    for element in name:\n",
        "      if element==\"0\" or element==\"1\" or element==\"2\" or element==\"3\" or element==\"4\" or element==\"5\" or element==\"6\" or element==\"7\" or element==\"8\" or element==\"9\":\n",
        "        value=value + str(element)\n",
        "  return int(value)\n",
        "\n",
        "\n",
        "\n",
        "X_train=[]\n",
        "train_items = os.listdir(\"/content/drive/MyDrive/data_projet/train/train_data_unlabeled\")\n",
        "formatted_format_items=[]\n",
        "for name in train_items:\n",
        "  formatted_format_items.append(formatNamesIntoNumbers(name))\n",
        "\n",
        "\n",
        "train_sorted_items = sorted(formatted_format_items)\n",
        "\n",
        "for image in train_sorted_items:\n",
        "  image=\"img_\"+str(image)+\".png\"\n",
        "  path=\"/content/drive/MyDrive/data_projet/train/train_data_unlabeled/\"+str(image)\n",
        "  im=Image.open(path)\n",
        "  im1=np.asarray(im)\n",
        "  im.close()\n",
        "  im1=im1[:,:,:3]\n",
        "  X_train.append(im1)\n",
        "\n",
        "X_train=np.asarray(X_train)\n",
        "\n",
        "\n",
        "X_test=[]\n",
        "test_items = os.listdir(\"/content/drive/MyDrive/data_projet/test/test_data_unlabeled\")\n",
        "\n",
        "formatted_format_items=[]\n",
        "for name in test_items:\n",
        "  formatted_format_items.append(formatNamesIntoNumbers(name))\n",
        "\n",
        "\n",
        "test_sorted_items = sorted(formatted_format_items)\n",
        "\n",
        "for image in test_sorted_items:\n",
        "  image=\"img_\"+str(image)+\".png\"\n",
        "  path=\"/content/drive/MyDrive/data_projet/test/test_data_unlabeled/\"+str(image)\n",
        "  im=Image.open(path)\n",
        "  im1=np.asarray(im)\n",
        "  im.close()\n",
        "  im1=im1[:,:,:3]\n",
        "  X_test.append(im1)\n",
        "\n",
        "X_test=np.asarray(X_test)\n",
        "\n",
        "\n"
      ],
      "metadata": {
        "id": "3AXyU9S9YQFI"
      },
      "id": "3AXyU9S9YQFI",
      "execution_count": 26,
      "outputs": []
    },
    {
      "cell_type": "code",
      "source": [
        "X_train_scaled = X_train.astype('float32') / 255.0\n",
        "X_test_scaled = X_test.astype('float32') / 255.0\n",
        "\n",
        "y_train=pd.DataFrame(pd.read_csv(\"/content/drive/MyDrive/data_projet/y_train.csv\"))\n",
        "y_train=y_train.drop(\"id\", axis=1)\n",
        "\n",
        "y_train_encoded = to_categorical(y_train, num_classes=4)\n"
      ],
      "metadata": {
        "id": "mpWep_BjboQD"
      },
      "id": "mpWep_BjboQD",
      "execution_count": 27,
      "outputs": []
    },
    {
      "cell_type": "code",
      "execution_count": 124,
      "id": "77238bdf-ad74-4246-920d-a1dc28564306",
      "metadata": {
        "id": "77238bdf-ad74-4246-920d-a1dc28564306"
      },
      "outputs": [],
      "source": [
        "model = Sequential()\n",
        "###################################\n",
        "\n",
        "model.add(Conv2D(64,kernel_size=(3, 3), activation='linear', input_shape=(45,51,3)))\n",
        "model.add(MaxPooling2D(pool_size=(4, 4)))\n",
        "\n",
        "model.add(Conv2D(128,kernel_size=(3, 3), activation='linear',input_shape=(45,51,3)))\n",
        "model.add(MaxPooling2D(pool_size=(2, 2)))\n",
        "\n",
        "model.add(Conv2D(256,kernel_size=(3, 3), activation='linear',input_shape=(45,51,3)))\n",
        "model.add(MaxPooling2D(pool_size=(2, 2)))\n",
        "\n",
        "model.add(Flatten())\n",
        "\n",
        "model.add(Dense(128, activation='sigmoid'))\n",
        "model.add(Dense(256, activation='softplus'))\n",
        "model.add(Dropout(0.1))\n",
        "model.add(Dense(128, activation='softplus'))\n",
        "model.add(Dense(4, activation='softmax'))\n",
        "\n",
        "###################################\n"
      ]
    },
    {
      "cell_type": "markdown",
      "id": "fde4b3eb-90e1-4724-89df-0db1872560d4",
      "metadata": {
        "id": "fde4b3eb-90e1-4724-89df-0db1872560d4"
      },
      "source": [
        "#### 2.2 Compile the model"
      ]
    },
    {
      "cell_type": "code",
      "execution_count": 125,
      "id": "e6d1a924-9e2f-4ca2-b4d6-4724f51ae065",
      "metadata": {
        "id": "e6d1a924-9e2f-4ca2-b4d6-4724f51ae065",
        "colab": {
          "base_uri": "https://localhost:8080/"
        },
        "outputId": "6fc0836d-ab55-4edd-d91f-eb0a88f832b2"
      },
      "outputs": [
        {
          "output_type": "stream",
          "name": "stdout",
          "text": [
            "Model: \"sequential_14\"\n",
            "_________________________________________________________________\n",
            " Layer (type)                Output Shape              Param #   \n",
            "=================================================================\n",
            " conv2d_38 (Conv2D)          (None, 43, 49, 64)        1792      \n",
            "                                                                 \n",
            " max_pooling2d_38 (MaxPooli  (None, 10, 12, 64)        0         \n",
            " ng2D)                                                           \n",
            "                                                                 \n",
            " conv2d_39 (Conv2D)          (None, 8, 10, 128)        73856     \n",
            "                                                                 \n",
            " max_pooling2d_39 (MaxPooli  (None, 4, 5, 128)         0         \n",
            " ng2D)                                                           \n",
            "                                                                 \n",
            " conv2d_40 (Conv2D)          (None, 2, 3, 256)         295168    \n",
            "                                                                 \n",
            " max_pooling2d_40 (MaxPooli  (None, 1, 1, 256)         0         \n",
            " ng2D)                                                           \n",
            "                                                                 \n",
            " flatten_14 (Flatten)        (None, 256)               0         \n",
            "                                                                 \n",
            " dense_52 (Dense)            (None, 128)               32896     \n",
            "                                                                 \n",
            " dense_53 (Dense)            (None, 256)               33024     \n",
            "                                                                 \n",
            " dropout_7 (Dropout)         (None, 256)               0         \n",
            "                                                                 \n",
            " dense_54 (Dense)            (None, 128)               32896     \n",
            "                                                                 \n",
            " dense_55 (Dense)            (None, 4)                 516       \n",
            "                                                                 \n",
            "=================================================================\n",
            "Total params: 470148 (1.79 MB)\n",
            "Trainable params: 470148 (1.79 MB)\n",
            "Non-trainable params: 0 (0.00 Byte)\n",
            "_________________________________________________________________\n"
          ]
        }
      ],
      "source": [
        "\n",
        "###################################\n",
        "# Write your own code here #\n",
        "\n",
        "optimizer = Adam(learning_rate = 0.001)\n",
        "model.compile(loss='categorical_crossentropy', optimizer=optimizer, metrics=['accuracy'])\n",
        "\n",
        "###################################\n",
        "#For some reason I can not launch it at that point without a crash\n",
        "model.summary()"
      ]
    },
    {
      "cell_type": "markdown",
      "id": "f146b70f-2e8c-484f-abfd-6fc4a8b8177b",
      "metadata": {
        "id": "f146b70f-2e8c-484f-abfd-6fc4a8b8177b"
      },
      "source": [
        "### 3. Training stage"
      ]
    },
    {
      "cell_type": "markdown",
      "id": "cb1de787-9e40-47e2-bc54-44ccd1864357",
      "metadata": {
        "id": "cb1de787-9e40-47e2-bc54-44ccd1864357"
      },
      "source": [
        "#### 3.1 Model training"
      ]
    },
    {
      "cell_type": "code",
      "execution_count": 126,
      "id": "4f858566-601d-4873-ad02-a0635bd8f526",
      "metadata": {
        "id": "4f858566-601d-4873-ad02-a0635bd8f526",
        "colab": {
          "base_uri": "https://localhost:8080/"
        },
        "outputId": "8a2e4e67-47e9-41d9-eaca-00bc3731cade"
      },
      "outputs": [
        {
          "output_type": "stream",
          "name": "stdout",
          "text": [
            "Epoch 1/100\n",
            "65/65 [==============================] - 3s 23ms/step - loss: 1.2201 - accuracy: 0.4192 - val_loss: 0.9510 - val_accuracy: 0.6589\n",
            "Epoch 2/100\n",
            "65/65 [==============================] - 1s 16ms/step - loss: 0.7594 - accuracy: 0.6834 - val_loss: 0.6303 - val_accuracy: 0.7223\n",
            "Epoch 3/100\n",
            "65/65 [==============================] - 1s 16ms/step - loss: 0.5244 - accuracy: 0.7896 - val_loss: 0.5549 - val_accuracy: 0.7668\n",
            "Epoch 4/100\n",
            "65/65 [==============================] - 1s 19ms/step - loss: 0.4063 - accuracy: 0.8472 - val_loss: 0.3938 - val_accuracy: 0.8428\n",
            "Epoch 5/100\n",
            "65/65 [==============================] - 1s 19ms/step - loss: 0.3311 - accuracy: 0.8748 - val_loss: 0.3459 - val_accuracy: 0.8635\n",
            "Epoch 6/100\n",
            "65/65 [==============================] - 1s 18ms/step - loss: 0.2915 - accuracy: 0.8906 - val_loss: 0.3430 - val_accuracy: 0.8696\n",
            "Epoch 7/100\n",
            "65/65 [==============================] - 1s 16ms/step - loss: 0.2657 - accuracy: 0.9013 - val_loss: 0.2701 - val_accuracy: 0.8984\n",
            "Epoch 8/100\n",
            "65/65 [==============================] - 1s 16ms/step - loss: 0.2363 - accuracy: 0.9088 - val_loss: 0.2441 - val_accuracy: 0.9033\n",
            "Epoch 9/100\n",
            "65/65 [==============================] - 1s 16ms/step - loss: 0.2174 - accuracy: 0.9146 - val_loss: 0.2383 - val_accuracy: 0.9033\n",
            "Epoch 10/100\n",
            "65/65 [==============================] - 1s 16ms/step - loss: 0.1952 - accuracy: 0.9266 - val_loss: 0.2463 - val_accuracy: 0.8999\n",
            "Epoch 11/100\n",
            "65/65 [==============================] - 1s 16ms/step - loss: 0.1750 - accuracy: 0.9324 - val_loss: 0.2046 - val_accuracy: 0.9203\n",
            "Epoch 12/100\n",
            "65/65 [==============================] - 1s 16ms/step - loss: 0.1615 - accuracy: 0.9392 - val_loss: 0.1831 - val_accuracy: 0.9333\n",
            "Epoch 13/100\n",
            "65/65 [==============================] - 1s 16ms/step - loss: 0.1459 - accuracy: 0.9436 - val_loss: 0.1980 - val_accuracy: 0.9265\n",
            "Epoch 14/100\n",
            "65/65 [==============================] - 1s 16ms/step - loss: 0.1378 - accuracy: 0.9482 - val_loss: 0.1662 - val_accuracy: 0.9370\n",
            "Epoch 15/100\n",
            "65/65 [==============================] - 1s 16ms/step - loss: 0.1225 - accuracy: 0.9536 - val_loss: 0.1494 - val_accuracy: 0.9410\n",
            "Epoch 16/100\n",
            "65/65 [==============================] - 1s 19ms/step - loss: 0.1134 - accuracy: 0.9563 - val_loss: 0.1810 - val_accuracy: 0.9305\n",
            "Epoch 17/100\n",
            "65/65 [==============================] - 1s 19ms/step - loss: 0.1144 - accuracy: 0.9557 - val_loss: 0.1629 - val_accuracy: 0.9370\n",
            "Epoch 18/100\n",
            "65/65 [==============================] - 1s 19ms/step - loss: 0.1118 - accuracy: 0.9572 - val_loss: 0.1672 - val_accuracy: 0.9382\n",
            "Epoch 19/100\n",
            "65/65 [==============================] - 1s 16ms/step - loss: 0.0919 - accuracy: 0.9659 - val_loss: 0.1529 - val_accuracy: 0.9466\n",
            "Epoch 20/100\n",
            "65/65 [==============================] - 1s 17ms/step - loss: 0.0846 - accuracy: 0.9698 - val_loss: 0.1286 - val_accuracy: 0.9509\n",
            "Epoch 21/100\n",
            "65/65 [==============================] - 1s 16ms/step - loss: 0.1051 - accuracy: 0.9594 - val_loss: 0.1398 - val_accuracy: 0.9487\n",
            "Epoch 22/100\n",
            "65/65 [==============================] - 1s 16ms/step - loss: 0.0805 - accuracy: 0.9701 - val_loss: 0.1249 - val_accuracy: 0.9521\n",
            "Epoch 23/100\n",
            "65/65 [==============================] - 1s 16ms/step - loss: 0.0721 - accuracy: 0.9731 - val_loss: 0.1193 - val_accuracy: 0.9555\n",
            "Epoch 24/100\n",
            "65/65 [==============================] - 1s 17ms/step - loss: 0.0656 - accuracy: 0.9752 - val_loss: 0.1317 - val_accuracy: 0.9534\n",
            "Epoch 25/100\n",
            "65/65 [==============================] - 1s 21ms/step - loss: 0.0661 - accuracy: 0.9754 - val_loss: 0.1197 - val_accuracy: 0.9605\n",
            "Epoch 26/100\n",
            "65/65 [==============================] - 1s 16ms/step - loss: 0.0605 - accuracy: 0.9781 - val_loss: 0.1526 - val_accuracy: 0.9441\n",
            "Epoch 27/100\n",
            "65/65 [==============================] - 1s 17ms/step - loss: 0.0641 - accuracy: 0.9763 - val_loss: 0.1137 - val_accuracy: 0.9592\n",
            "Epoch 28/100\n",
            "65/65 [==============================] - 1s 20ms/step - loss: 0.0468 - accuracy: 0.9839 - val_loss: 0.0961 - val_accuracy: 0.9688\n",
            "Epoch 29/100\n",
            "65/65 [==============================] - 1s 20ms/step - loss: 0.0508 - accuracy: 0.9818 - val_loss: 0.1562 - val_accuracy: 0.9503\n",
            "Epoch 30/100\n",
            "65/65 [==============================] - 1s 17ms/step - loss: 0.0500 - accuracy: 0.9823 - val_loss: 0.1293 - val_accuracy: 0.9564\n",
            "Epoch 31/100\n",
            "65/65 [==============================] - 1s 16ms/step - loss: 0.0411 - accuracy: 0.9848 - val_loss: 0.1289 - val_accuracy: 0.9580\n",
            "Epoch 32/100\n",
            "65/65 [==============================] - 1s 17ms/step - loss: 0.0465 - accuracy: 0.9832 - val_loss: 0.1044 - val_accuracy: 0.9648\n",
            "Epoch 33/100\n",
            "65/65 [==============================] - 1s 16ms/step - loss: 0.0336 - accuracy: 0.9891 - val_loss: 0.1180 - val_accuracy: 0.9617\n",
            "Epoch 34/100\n",
            "65/65 [==============================] - 1s 16ms/step - loss: 0.0374 - accuracy: 0.9878 - val_loss: 0.1036 - val_accuracy: 0.9676\n",
            "Epoch 35/100\n",
            "65/65 [==============================] - 1s 17ms/step - loss: 0.0313 - accuracy: 0.9888 - val_loss: 0.1150 - val_accuracy: 0.9642\n",
            "Epoch 36/100\n",
            "65/65 [==============================] - 1s 17ms/step - loss: 0.0275 - accuracy: 0.9907 - val_loss: 0.1048 - val_accuracy: 0.9666\n",
            "Epoch 37/100\n",
            "65/65 [==============================] - 1s 17ms/step - loss: 0.0261 - accuracy: 0.9902 - val_loss: 0.1044 - val_accuracy: 0.9663\n",
            "Epoch 38/100\n",
            "65/65 [==============================] - 1s 17ms/step - loss: 0.0308 - accuracy: 0.9883 - val_loss: 0.1306 - val_accuracy: 0.9601\n",
            "Epoch 39/100\n",
            "65/65 [==============================] - 1s 19ms/step - loss: 0.0316 - accuracy: 0.9885 - val_loss: 0.1076 - val_accuracy: 0.9648\n",
            "Epoch 40/100\n",
            "65/65 [==============================] - 1s 19ms/step - loss: 0.0249 - accuracy: 0.9909 - val_loss: 0.1228 - val_accuracy: 0.9614\n",
            "Epoch 41/100\n",
            "65/65 [==============================] - 1s 19ms/step - loss: 0.0199 - accuracy: 0.9933 - val_loss: 0.1156 - val_accuracy: 0.9676\n",
            "Epoch 42/100\n",
            "65/65 [==============================] - 1s 17ms/step - loss: 0.0116 - accuracy: 0.9970 - val_loss: 0.1086 - val_accuracy: 0.9707\n",
            "Epoch 43/100\n",
            "65/65 [==============================] - 1s 17ms/step - loss: 0.0093 - accuracy: 0.9971 - val_loss: 0.1124 - val_accuracy: 0.9666\n",
            "Epoch 44/100\n",
            "65/65 [==============================] - 1s 16ms/step - loss: 0.0184 - accuracy: 0.9933 - val_loss: 0.1013 - val_accuracy: 0.9703\n",
            "Epoch 45/100\n",
            "65/65 [==============================] - 1s 16ms/step - loss: 0.0774 - accuracy: 0.9733 - val_loss: 0.1858 - val_accuracy: 0.9419\n",
            "Epoch 46/100\n",
            "65/65 [==============================] - 1s 17ms/step - loss: 0.0372 - accuracy: 0.9864 - val_loss: 0.1045 - val_accuracy: 0.9666\n"
          ]
        }
      ],
      "source": [
        "###################################\n",
        "# Write your own code here #\n",
        "callback = EarlyStopping(monitor='loss', patience=3)\n",
        "history = model.fit(X_train_scaled, y_train_encoded, epochs=100, batch_size=200, validation_split = 0.2, callbacks=[callback])\n",
        "\n",
        "\n",
        "###################################"
      ]
    },
    {
      "cell_type": "markdown",
      "id": "45651f2d-5cc4-4896-8edc-f58b50fed605",
      "metadata": {
        "id": "45651f2d-5cc4-4896-8edc-f58b50fed605"
      },
      "source": [
        "#### 3.1 Model Prediction"
      ]
    },
    {
      "cell_type": "code",
      "source": [
        "predictions = model.predict(X_test_scaled)\n",
        "predictions"
      ],
      "metadata": {
        "id": "MGb-c4lrX3i2",
        "colab": {
          "base_uri": "https://localhost:8080/"
        },
        "outputId": "825dd6cd-eb68-4fbb-c281-58b189f7e09d"
      },
      "id": "MGb-c4lrX3i2",
      "execution_count": 111,
      "outputs": [
        {
          "output_type": "stream",
          "name": "stdout",
          "text": [
            "150/150 [==============================] - 0s 2ms/step\n"
          ]
        },
        {
          "output_type": "execute_result",
          "data": {
            "text/plain": [
              "array([[5.8883427e-09, 9.6549636e-01, 3.4503616e-02, 1.6192967e-08],\n",
              "       [1.1801716e-05, 7.7152028e-05, 8.2856484e-02, 9.1705453e-01],\n",
              "       [2.5034240e-07, 1.5150944e-08, 1.0849575e-05, 9.9998891e-01],\n",
              "       ...,\n",
              "       [1.0000000e+00, 2.0737391e-18, 8.1081088e-12, 1.6736833e-10],\n",
              "       [1.0000000e+00, 2.9802099e-18, 2.0271847e-11, 1.7056426e-10],\n",
              "       [4.3685478e-08, 2.8882962e-06, 9.9999702e-01, 6.0160293e-10]],\n",
              "      dtype=float32)"
            ]
          },
          "metadata": {},
          "execution_count": 111
        }
      ]
    },
    {
      "cell_type": "code",
      "source": [
        "plt.figure()\n",
        "plt.plot(history.history['loss'])\n",
        "plt.plot(history.history['val_loss'])"
      ],
      "metadata": {
        "colab": {
          "base_uri": "https://localhost:8080/",
          "height": 451
        },
        "id": "Ab4EvPkppFRL",
        "outputId": "c2898df7-78d0-4846-fb71-b5b9aef6ce6e"
      },
      "id": "Ab4EvPkppFRL",
      "execution_count": 127,
      "outputs": [
        {
          "output_type": "execute_result",
          "data": {
            "text/plain": [
              "[<matplotlib.lines.Line2D at 0x7f6570b43430>]"
            ]
          },
          "metadata": {},
          "execution_count": 127
        },
        {
          "output_type": "display_data",
          "data": {
            "text/plain": [
              "<Figure size 640x480 with 1 Axes>"
            ],
            "image/png": "[encoded data removed]"
          },
          "metadata": {}
        }
      ]
    },
    {
      "cell_type": "code",
      "source": [
        "plt.figure()\n",
        "plt.plot(history.history['accuracy'])\n",
        "plt.plot(history.history['val_accuracy'])"
      ],
      "metadata": {
        "colab": {
          "base_uri": "https://localhost:8080/",
          "height": 451
        },
        "id": "0Ai0ASEppO-S",
        "outputId": "2af0c193-b1fe-4363-bfdd-1857ceb24ba3"
      },
      "id": "0Ai0ASEppO-S",
      "execution_count": 128,
      "outputs": [
        {
          "output_type": "execute_result",
          "data": {
            "text/plain": [
              "[<matplotlib.lines.Line2D at 0x7f6597335390>]"
            ]
          },
          "metadata": {},
          "execution_count": 128
        },
        {
          "output_type": "display_data",
          "data": {
            "text/plain": [
              "<Figure size 640x480 with 1 Axes>"
            ],
            "image/png": "[encoded data removed]"
          },
          "metadata": {}
        }
      ]
    },
    {
      "cell_type": "code",
      "execution_count": 115,
      "id": "841d1e30-e448-4b53-b3fc-9b97863391bb",
      "metadata": {
        "id": "841d1e30-e448-4b53-b3fc-9b97863391bb"
      },
      "outputs": [],
      "source": [
        "###################################\n",
        " #CSV Creation\n",
        "id = range(len(predictions))\n",
        "answers=[]\n",
        "for loop in predictions:\n",
        "  max=0\n",
        "  count=0\n",
        "  for j in range(len(loop)):\n",
        "    if loop[j]>max:\n",
        "      max=loop[j]\n",
        "      count=j\n",
        "  answers.append(count)\n",
        "\n",
        "df = pd.DataFrame({'id': id, 'target': answers})\n",
        "\n",
        "df.to_csv('X_test.csv', index=False)\n",
        "\n",
        "###################################"
      ]
    }
  ],
  "metadata": {
    "colab": {
      "provenance": [],
      "gpuType": "T4"
    },
    "kernelspec": {
      "display_name": "Python 3",
      "name": "python3"
    },
    "language_info": {
      "codemirror_mode": {
        "name": "ipython",
        "version": 3
      },
      "file_extension": ".py",
      "mimetype": "text/x-python",
      "name": "python",
      "nbconvert_exporter": "python",
      "pygments_lexer": "ipython3",
      "version": "3.10.12"
    },
    "accelerator": "GPU"
  },
  "nbformat": 4,
  "nbformat_minor": 5
}