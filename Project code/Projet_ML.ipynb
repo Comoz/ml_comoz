{
  "cells": [
    {
      "cell_type": "markdown",
      "id": "9457fdc4-1690-4c41-8e88-1597fc2a687c",
      "metadata": {
        "id": "9457fdc4-1690-4c41-8e88-1597fc2a687c"
      },
      "source": [
        " # MPA-MLF, Lab 7 - Convolutional Neural Network"
      ]
    },
    {
      "cell_type": "code",
      "execution_count": null,
      "id": "4l4g9Ya4pNMI",
      "metadata": {
        "colab": {
          "base_uri": "https://localhost:8080/"
        },
        "id": "4l4g9Ya4pNMI",
        "outputId": "34b890e1-da12-48ab-ea4f-805ed0706dc1"
      },
      "outputs": [
        {
          "output_type": "stream",
          "name": "stdout",
          "text": [
            "Mounted at /content/drive\n"
          ]
        }
      ],
      "source": [
        "from google.colab import drive\n",
        "drive.mount('/content/drive', force_remount=True)"
      ]
    },
    {
      "cell_type": "markdown",
      "id": "b724de14-3931-4983-b443-7e0106d190dc",
      "metadata": {
        "id": "b724de14-3931-4983-b443-7e0106d190dc"
      },
      "source": [
        "0. Import libraries"
      ]
    },
    {
      "cell_type": "code",
      "execution_count": null,
      "id": "1f692dd4-0262-4e7a-b029-69d8280f14d2",
      "metadata": {
        "id": "1f692dd4-0262-4e7a-b029-69d8280f14d2"
      },
      "outputs": [],
      "source": [
        "from tensorflow import keras\n",
        "from keras.models import Sequential\n",
        "import numpy as np\n",
        "import matplotlib\n",
        "import matplotlib.pyplot as plt\n",
        "###################################\n",
        "# Write your own code here #\n",
        "\n",
        "\n",
        "import zipfile\n",
        "import os\n",
        "import pandas as pd\n",
        "from PIL import Image\n",
        "from keras.utils import image_dataset_from_directory\n",
        "\n",
        "\n",
        "from keras.utils import to_categorical\n",
        "from keras.layers import Conv2D, MaxPooling2D, Flatten, Dense, Dropout, LeakyReLU\n",
        "from keras.optimizers import Adamax,Adam, SGD\n",
        "from keras.callbacks import EarlyStopping\n",
        "\n",
        "\n",
        "###################################\n",
        "font = {'weight' : 'bold',\n",
        "        'size'   : 12}\n",
        "\n",
        "matplotlib.rc('font', **font)"
      ]
    },
    {
      "cell_type": "code",
      "source": [
        "X_train=[]\n",
        "for image in os.listdir(\"/content/drive/MyDrive/data_projet/train/train_data_unlabeled\"):\n",
        "  path=\"/content/drive/MyDrive/data_projet/train/train_data_unlabeled/\"+str(image)\n",
        "  im=Image.open(path)\n",
        "  im1=np.asarray(im)\n",
        "  im.close()\n",
        "  im1=im1[:,:,:3]\n",
        "  X_train.append(im1)\n",
        "\n",
        "X_train=np.asarray(X_train)\n",
        "\n",
        "\n",
        "X_test=[]\n",
        "for image in os.listdir(\"/content/drive/MyDrive/data_projet/test/test_data_unlabeled\"):\n",
        "  path=\"/content/drive/MyDrive/data_projet/test/test_data_unlabeled/\"+str(image)\n",
        "  im=Image.open(path)\n",
        "  im1=np.asarray(im)\n",
        "  im.close()\n",
        "  im1=im1[:,:,:3]\n",
        "  X_test.append(im1)\n",
        "\n",
        "X_test=np.asarray(X_test)\n",
        "\n",
        "\n"
      ],
      "metadata": {
        "id": "3AXyU9S9YQFI"
      },
      "id": "3AXyU9S9YQFI",
      "execution_count": null,
      "outputs": []
    },
    {
      "cell_type": "code",
      "source": [
        "X_train_scaled = X_train.astype('float32') / 255.0\n",
        "X_test_scaled = X_test.astype('float32') / 255.0\n",
        "\n",
        "y_train=pd.DataFrame(pd.read_csv(\"/content/drive/MyDrive/data_projet/y_train.csv\"))\n",
        "y_train=y_train.drop(\"id\", axis=1)\n",
        "\n",
        "y_train_encoded = to_categorical(y_train, num_classes=4)\n"
      ],
      "metadata": {
        "id": "mpWep_BjboQD"
      },
      "id": "mpWep_BjboQD",
      "execution_count": null,
      "outputs": []
    },
    {
      "cell_type": "code",
      "source": [
        "#X_train_scaled[0][0][0]\n",
        "X_train_scaled\n",
        "#y_train_encoded[0]"
      ],
      "metadata": {
        "id": "m4Jg9cp760U1"
      },
      "id": "m4Jg9cp760U1",
      "execution_count": null,
      "outputs": []
    },
    {
      "cell_type": "code",
      "execution_count": null,
      "id": "77238bdf-ad74-4246-920d-a1dc28564306",
      "metadata": {
        "id": "77238bdf-ad74-4246-920d-a1dc28564306"
      },
      "outputs": [],
      "source": [
        "model = Sequential()\n",
        "###################################\n",
        "# Write your own code here #\n",
        "\n",
        "model.add(Conv2D(64,kernel_size=(3, 3), activation='linear', input_shape=(45,51,3)))\n",
        "model.add(MaxPooling2D(pool_size=(4, 4)))\n",
        "\n",
        "model.add(Conv2D(128,kernel_size=(3, 3), activation='linear',input_shape=(45,51,3)))\n",
        "model.add(MaxPooling2D(pool_size=(2, 2)))\n",
        "\n",
        "model.add(Conv2D(256,kernel_size=(3, 3), activation='linear',input_shape=(45,51,3)))\n",
        "model.add(MaxPooling2D(pool_size=(2, 2)))\n",
        "\n",
        "model.add(Flatten())\n",
        "\n",
        "model.add(Dense(128, activation='softmax'))\n",
        "model.add(Dense(256, activation='linear'))\n",
        "model.add(Dense(128, activation='linear'))\n",
        "model.add(Dense(4, activation='softmax'))\n",
        "\n",
        "###################################\n",
        "\n",
        "\n",
        "\n",
        "###################################\n",
        "# Write your own code here #\n",
        "\n",
        "#model.add(Conv2D(64,kernel_size=(3, 3), activation='linear', input_shape=(45,51,3)))\n",
        "#model.add(MaxPooling2D(pool_size=(4, 4)))\n",
        "#model.add(Conv2D(128,kernel_size=(3, 3), activation='softmax',input_shape=(45,51,3)))\n",
        "#model.add(MaxPooling2D(pool_size=(2, 2)))\n",
        "#model.add(Conv2D(256,kernel_size=(3, 3), activation='linear',input_shape=(45,51,3)))\n",
        "#model.add(MaxPooling2D(pool_size=(2, 2)))\n",
        "\n",
        "#model.add(Flatten())\n",
        "#model.add(Dense(64, activation='relu'))\n",
        "#model.add(Dense(4, activation='softmax'))\n",
        "\n",
        "###################################\n"
      ]
    },
    {
      "cell_type": "markdown",
      "id": "fde4b3eb-90e1-4724-89df-0db1872560d4",
      "metadata": {
        "id": "fde4b3eb-90e1-4724-89df-0db1872560d4"
      },
      "source": [
        "#### 2.2 Compile the model"
      ]
    },
    {
      "cell_type": "code",
      "execution_count": null,
      "id": "e6d1a924-9e2f-4ca2-b4d6-4724f51ae065",
      "metadata": {
        "id": "e6d1a924-9e2f-4ca2-b4d6-4724f51ae065"
      },
      "outputs": [],
      "source": [
        "\n",
        "###################################\n",
        "# Write your own code here #\n",
        "\n",
        "optimizer = Adamax(learning_rate = 0.0001)\n",
        "model.compile(loss='categorical_crossentropy', optimizer=optimizer, metrics=['accuracy'])\n",
        "\n",
        "###################################\n",
        "#For some reason I can not launch it at that point without a crash\n",
        "#model.summary()"
      ]
    },
    {
      "cell_type": "markdown",
      "id": "f146b70f-2e8c-484f-abfd-6fc4a8b8177b",
      "metadata": {
        "id": "f146b70f-2e8c-484f-abfd-6fc4a8b8177b"
      },
      "source": [
        "### 3. Training stage"
      ]
    },
    {
      "cell_type": "markdown",
      "id": "cb1de787-9e40-47e2-bc54-44ccd1864357",
      "metadata": {
        "id": "cb1de787-9e40-47e2-bc54-44ccd1864357"
      },
      "source": [
        "#### 3.1 Model training"
      ]
    },
    {
      "cell_type": "code",
      "execution_count": null,
      "id": "4f858566-601d-4873-ad02-a0635bd8f526",
      "metadata": {
        "id": "4f858566-601d-4873-ad02-a0635bd8f526",
        "colab": {
          "base_uri": "https://localhost:8080/"
        },
        "outputId": "ec1c84c7-d5b5-44e7-9d78-22effb711da0"
      },
      "outputs": [
        {
          "output_type": "stream",
          "name": "stdout",
          "text": [
            "Epoch 1/80\n",
            "77/77 [==============================] - 1s 14ms/step - loss: 1.3358 - accuracy: 0.3320 - val_loss: 1.3327 - val_accuracy: 0.3457\n",
            "Epoch 2/80\n",
            "77/77 [==============================] - 1s 10ms/step - loss: 1.3358 - accuracy: 0.3320 - val_loss: 1.3326 - val_accuracy: 0.3457\n",
            "Epoch 3/80\n",
            "77/77 [==============================] - 1s 11ms/step - loss: 1.3358 - accuracy: 0.3320 - val_loss: 1.3327 - val_accuracy: 0.3457\n",
            "Epoch 4/80\n",
            "77/77 [==============================] - 1s 11ms/step - loss: 1.3358 - accuracy: 0.3320 - val_loss: 1.3326 - val_accuracy: 0.3457\n",
            "Epoch 5/80\n",
            "77/77 [==============================] - 1s 11ms/step - loss: 1.3359 - accuracy: 0.3320 - val_loss: 1.3324 - val_accuracy: 0.3457\n",
            "Epoch 6/80\n",
            "77/77 [==============================] - 1s 11ms/step - loss: 1.3358 - accuracy: 0.3320 - val_loss: 1.3327 - val_accuracy: 0.3457\n",
            "Epoch 7/80\n",
            "77/77 [==============================] - 1s 11ms/step - loss: 1.3358 - accuracy: 0.3320 - val_loss: 1.3327 - val_accuracy: 0.3457\n",
            "Epoch 8/80\n",
            "77/77 [==============================] - 1s 10ms/step - loss: 1.3358 - accuracy: 0.3320 - val_loss: 1.3327 - val_accuracy: 0.3457\n",
            "Epoch 9/80\n",
            "77/77 [==============================] - 1s 12ms/step - loss: 1.3359 - accuracy: 0.3320 - val_loss: 1.3329 - val_accuracy: 0.3457\n",
            "Epoch 10/80\n",
            "77/77 [==============================] - 1s 14ms/step - loss: 1.3357 - accuracy: 0.3320 - val_loss: 1.3327 - val_accuracy: 0.3457\n",
            "Epoch 11/80\n",
            "77/77 [==============================] - 1s 15ms/step - loss: 1.3357 - accuracy: 0.3320 - val_loss: 1.3325 - val_accuracy: 0.3457\n",
            "Epoch 12/80\n",
            "77/77 [==============================] - 1s 15ms/step - loss: 1.3357 - accuracy: 0.3320 - val_loss: 1.3326 - val_accuracy: 0.3457\n",
            "Epoch 13/80\n",
            "77/77 [==============================] - 1s 11ms/step - loss: 1.3359 - accuracy: 0.3320 - val_loss: 1.3328 - val_accuracy: 0.3457\n",
            "Epoch 14/80\n",
            "77/77 [==============================] - 1s 11ms/step - loss: 1.3357 - accuracy: 0.3320 - val_loss: 1.3329 - val_accuracy: 0.3457\n",
            "Epoch 15/80\n",
            "77/77 [==============================] - 1s 11ms/step - loss: 1.3358 - accuracy: 0.3320 - val_loss: 1.3332 - val_accuracy: 0.3457\n",
            "Epoch 16/80\n",
            "77/77 [==============================] - 1s 11ms/step - loss: 1.3359 - accuracy: 0.3320 - val_loss: 1.3328 - val_accuracy: 0.3457\n",
            "Epoch 17/80\n",
            "77/77 [==============================] - 1s 10ms/step - loss: 1.3357 - accuracy: 0.3320 - val_loss: 1.3327 - val_accuracy: 0.3457\n",
            "Epoch 18/80\n",
            "77/77 [==============================] - 1s 11ms/step - loss: 1.3358 - accuracy: 0.3320 - val_loss: 1.3328 - val_accuracy: 0.3457\n",
            "Epoch 19/80\n",
            "77/77 [==============================] - 1s 11ms/step - loss: 1.3357 - accuracy: 0.3320 - val_loss: 1.3327 - val_accuracy: 0.3457\n",
            "Epoch 20/80\n",
            "77/77 [==============================] - 1s 11ms/step - loss: 1.3359 - accuracy: 0.3320 - val_loss: 1.3326 - val_accuracy: 0.3457\n",
            "Epoch 21/80\n",
            "77/77 [==============================] - 1s 11ms/step - loss: 1.3357 - accuracy: 0.3320 - val_loss: 1.3326 - val_accuracy: 0.3457\n",
            "Epoch 22/80\n",
            "77/77 [==============================] - 1s 11ms/step - loss: 1.3358 - accuracy: 0.3320 - val_loss: 1.3326 - val_accuracy: 0.3457\n",
            "Epoch 23/80\n",
            "77/77 [==============================] - 1s 11ms/step - loss: 1.3357 - accuracy: 0.3320 - val_loss: 1.3326 - val_accuracy: 0.3457\n",
            "Epoch 24/80\n",
            "77/77 [==============================] - 1s 12ms/step - loss: 1.3356 - accuracy: 0.3320 - val_loss: 1.3325 - val_accuracy: 0.3457\n",
            "Epoch 25/80\n",
            "77/77 [==============================] - 1s 14ms/step - loss: 1.3356 - accuracy: 0.3320 - val_loss: 1.3327 - val_accuracy: 0.3457\n",
            "Epoch 26/80\n",
            "77/77 [==============================] - 1s 13ms/step - loss: 1.3356 - accuracy: 0.3320 - val_loss: 1.3327 - val_accuracy: 0.3457\n",
            "Epoch 27/80\n",
            "77/77 [==============================] - 1s 14ms/step - loss: 1.3356 - accuracy: 0.3320 - val_loss: 1.3326 - val_accuracy: 0.3457\n",
            "Epoch 28/80\n",
            "77/77 [==============================] - 1s 11ms/step - loss: 1.3356 - accuracy: 0.3320 - val_loss: 1.3328 - val_accuracy: 0.3457\n",
            "Epoch 29/80\n",
            "77/77 [==============================] - 1s 11ms/step - loss: 1.3359 - accuracy: 0.3320 - val_loss: 1.3325 - val_accuracy: 0.3457\n",
            "Epoch 30/80\n",
            "77/77 [==============================] - 1s 10ms/step - loss: 1.3357 - accuracy: 0.3320 - val_loss: 1.3326 - val_accuracy: 0.3457\n",
            "Epoch 31/80\n",
            "77/77 [==============================] - 1s 10ms/step - loss: 1.3357 - accuracy: 0.3320 - val_loss: 1.3329 - val_accuracy: 0.3457\n",
            "Epoch 32/80\n",
            "77/77 [==============================] - 1s 11ms/step - loss: 1.3356 - accuracy: 0.3320 - val_loss: 1.3329 - val_accuracy: 0.3457\n",
            "Epoch 33/80\n",
            "77/77 [==============================] - 1s 10ms/step - loss: 1.3356 - accuracy: 0.3320 - val_loss: 1.3328 - val_accuracy: 0.3457\n",
            "Epoch 34/80\n",
            "77/77 [==============================] - 1s 10ms/step - loss: 1.3357 - accuracy: 0.3320 - val_loss: 1.3327 - val_accuracy: 0.3457\n",
            "Epoch 35/80\n",
            "77/77 [==============================] - 1s 11ms/step - loss: 1.3356 - accuracy: 0.3320 - val_loss: 1.3328 - val_accuracy: 0.3457\n",
            "Epoch 36/80\n",
            "77/77 [==============================] - 1s 11ms/step - loss: 1.3355 - accuracy: 0.3320 - val_loss: 1.3329 - val_accuracy: 0.3457\n",
            "Epoch 37/80\n",
            "77/77 [==============================] - 1s 11ms/step - loss: 1.3355 - accuracy: 0.3320 - val_loss: 1.3326 - val_accuracy: 0.3457\n",
            "Epoch 38/80\n",
            "77/77 [==============================] - 1s 11ms/step - loss: 1.3355 - accuracy: 0.3320 - val_loss: 1.3326 - val_accuracy: 0.3457\n",
            "Epoch 39/80\n",
            "77/77 [==============================] - 1s 11ms/step - loss: 1.3356 - accuracy: 0.3320 - val_loss: 1.3328 - val_accuracy: 0.3457\n",
            "Epoch 40/80\n",
            "77/77 [==============================] - 1s 15ms/step - loss: 1.3354 - accuracy: 0.3320 - val_loss: 1.3331 - val_accuracy: 0.3457\n",
            "Epoch 41/80\n",
            "77/77 [==============================] - 1s 14ms/step - loss: 1.3356 - accuracy: 0.3320 - val_loss: 1.3330 - val_accuracy: 0.3457\n",
            "Epoch 42/80\n",
            "77/77 [==============================] - 1s 15ms/step - loss: 1.3356 - accuracy: 0.3320 - val_loss: 1.3325 - val_accuracy: 0.3457\n",
            "Epoch 43/80\n",
            "77/77 [==============================] - 1s 12ms/step - loss: 1.3355 - accuracy: 0.3320 - val_loss: 1.3328 - val_accuracy: 0.3457\n",
            "Epoch 44/80\n",
            "77/77 [==============================] - 1s 10ms/step - loss: 1.3355 - accuracy: 0.3320 - val_loss: 1.3328 - val_accuracy: 0.3457\n",
            "Epoch 45/80\n",
            "77/77 [==============================] - 1s 11ms/step - loss: 1.3354 - accuracy: 0.3320 - val_loss: 1.3331 - val_accuracy: 0.3457\n",
            "Epoch 46/80\n",
            "77/77 [==============================] - 1s 11ms/step - loss: 1.3356 - accuracy: 0.3320 - val_loss: 1.3328 - val_accuracy: 0.3457\n",
            "Epoch 47/80\n",
            "77/77 [==============================] - 1s 11ms/step - loss: 1.3355 - accuracy: 0.3320 - val_loss: 1.3332 - val_accuracy: 0.3457\n",
            "Epoch 48/80\n",
            "77/77 [==============================] - 1s 11ms/step - loss: 1.3358 - accuracy: 0.3320 - val_loss: 1.3326 - val_accuracy: 0.3457\n",
            "Epoch 49/80\n",
            "77/77 [==============================] - 1s 11ms/step - loss: 1.3355 - accuracy: 0.3320 - val_loss: 1.3327 - val_accuracy: 0.3457\n",
            "Epoch 50/80\n",
            "77/77 [==============================] - 1s 11ms/step - loss: 1.3355 - accuracy: 0.3320 - val_loss: 1.3328 - val_accuracy: 0.3457\n",
            "Epoch 51/80\n",
            "77/77 [==============================] - 1s 11ms/step - loss: 1.3355 - accuracy: 0.3320 - val_loss: 1.3327 - val_accuracy: 0.3457\n",
            "Epoch 52/80\n",
            "77/77 [==============================] - 1s 10ms/step - loss: 1.3355 - accuracy: 0.3320 - val_loss: 1.3329 - val_accuracy: 0.3457\n",
            "Epoch 53/80\n",
            "77/77 [==============================] - 1s 11ms/step - loss: 1.3355 - accuracy: 0.3320 - val_loss: 1.3332 - val_accuracy: 0.3457\n",
            "Epoch 54/80\n",
            "77/77 [==============================] - 1s 11ms/step - loss: 1.3354 - accuracy: 0.3320 - val_loss: 1.3326 - val_accuracy: 0.3457\n",
            "Epoch 55/80\n",
            "77/77 [==============================] - 1s 13ms/step - loss: 1.3354 - accuracy: 0.3320 - val_loss: 1.3328 - val_accuracy: 0.3457\n",
            "Epoch 56/80\n",
            "77/77 [==============================] - 1s 14ms/step - loss: 1.3354 - accuracy: 0.3320 - val_loss: 1.3331 - val_accuracy: 0.3457\n",
            "Epoch 57/80\n",
            "77/77 [==============================] - 1s 16ms/step - loss: 1.3355 - accuracy: 0.3320 - val_loss: 1.3330 - val_accuracy: 0.3457\n",
            "Epoch 58/80\n",
            "77/77 [==============================] - 1s 13ms/step - loss: 1.3354 - accuracy: 0.3320 - val_loss: 1.3326 - val_accuracy: 0.3457\n",
            "Epoch 59/80\n",
            "77/77 [==============================] - 1s 10ms/step - loss: 1.3355 - accuracy: 0.3320 - val_loss: 1.3329 - val_accuracy: 0.3457\n",
            "Epoch 60/80\n",
            "77/77 [==============================] - 1s 11ms/step - loss: 1.3355 - accuracy: 0.3320 - val_loss: 1.3331 - val_accuracy: 0.3457\n",
            "Epoch 61/80\n",
            "77/77 [==============================] - 1s 10ms/step - loss: 1.3354 - accuracy: 0.3320 - val_loss: 1.3331 - val_accuracy: 0.3457\n",
            "Epoch 62/80\n",
            "77/77 [==============================] - 1s 11ms/step - loss: 1.3354 - accuracy: 0.3320 - val_loss: 1.3329 - val_accuracy: 0.3457\n",
            "Epoch 63/80\n",
            "77/77 [==============================] - 1s 11ms/step - loss: 1.3354 - accuracy: 0.3320 - val_loss: 1.3329 - val_accuracy: 0.3457\n",
            "Epoch 64/80\n",
            "77/77 [==============================] - 1s 10ms/step - loss: 1.3352 - accuracy: 0.3320 - val_loss: 1.3331 - val_accuracy: 0.3457\n",
            "Epoch 65/80\n",
            "77/77 [==============================] - 1s 11ms/step - loss: 1.3354 - accuracy: 0.3320 - val_loss: 1.3331 - val_accuracy: 0.3457\n",
            "Epoch 66/80\n",
            "77/77 [==============================] - 1s 10ms/step - loss: 1.3354 - accuracy: 0.3320 - val_loss: 1.3329 - val_accuracy: 0.3457\n",
            "Epoch 67/80\n",
            "77/77 [==============================] - 1s 10ms/step - loss: 1.3355 - accuracy: 0.3320 - val_loss: 1.3329 - val_accuracy: 0.3457\n",
            "Epoch 68/80\n",
            "77/77 [==============================] - 1s 11ms/step - loss: 1.3353 - accuracy: 0.3320 - val_loss: 1.3331 - val_accuracy: 0.3457\n",
            "Epoch 69/80\n",
            "77/77 [==============================] - 1s 11ms/step - loss: 1.3353 - accuracy: 0.3320 - val_loss: 1.3329 - val_accuracy: 0.3457\n",
            "Epoch 70/80\n",
            "77/77 [==============================] - 1s 13ms/step - loss: 1.3354 - accuracy: 0.3320 - val_loss: 1.3329 - val_accuracy: 0.3457\n",
            "Epoch 71/80\n",
            "77/77 [==============================] - 1s 13ms/step - loss: 1.3354 - accuracy: 0.3320 - val_loss: 1.3328 - val_accuracy: 0.3457\n",
            "Epoch 72/80\n",
            "77/77 [==============================] - 1s 17ms/step - loss: 1.3353 - accuracy: 0.3320 - val_loss: 1.3330 - val_accuracy: 0.3457\n",
            "Epoch 73/80\n",
            "77/77 [==============================] - 1s 14ms/step - loss: 1.3353 - accuracy: 0.3320 - val_loss: 1.3330 - val_accuracy: 0.3457\n",
            "Epoch 74/80\n",
            "77/77 [==============================] - 1s 12ms/step - loss: 1.3356 - accuracy: 0.3321 - val_loss: 1.3331 - val_accuracy: 0.3457\n",
            "Epoch 75/80\n",
            "77/77 [==============================] - 1s 11ms/step - loss: 1.3353 - accuracy: 0.3320 - val_loss: 1.3329 - val_accuracy: 0.3457\n",
            "Epoch 76/80\n",
            "77/77 [==============================] - 1s 11ms/step - loss: 1.3353 - accuracy: 0.3320 - val_loss: 1.3331 - val_accuracy: 0.3457\n",
            "Epoch 77/80\n",
            "77/77 [==============================] - 1s 11ms/step - loss: 1.3352 - accuracy: 0.3320 - val_loss: 1.3330 - val_accuracy: 0.3457\n",
            "Epoch 78/80\n",
            "77/77 [==============================] - 1s 11ms/step - loss: 1.3352 - accuracy: 0.3320 - val_loss: 1.3330 - val_accuracy: 0.3457\n",
            "Epoch 79/80\n",
            "77/77 [==============================] - 1s 11ms/step - loss: 1.3351 - accuracy: 0.3320 - val_loss: 1.3331 - val_accuracy: 0.3457\n",
            "Epoch 80/80\n",
            "77/77 [==============================] - 1s 11ms/step - loss: 1.3353 - accuracy: 0.3320 - val_loss: 1.3329 - val_accuracy: 0.3457\n"
          ]
        }
      ],
      "source": [
        "###################################\n",
        "# Write your own code here #\n",
        "callback = EarlyStopping(monitor='accuracy', patience=8)\n",
        "history = model.fit(X_train_scaled, y_train_encoded, epochs=80, batch_size=170, validation_split = 0.2)#, callbacks=[callback])\n",
        "\n",
        "\n",
        "###################################"
      ]
    },
    {
      "cell_type": "markdown",
      "id": "45651f2d-5cc4-4896-8edc-f58b50fed605",
      "metadata": {
        "id": "45651f2d-5cc4-4896-8edc-f58b50fed605"
      },
      "source": [
        "#### 3.1 Model Prediction"
      ]
    },
    {
      "cell_type": "code",
      "source": [
        "predictions = model.predict(X_test_scaled)\n",
        "predictions"
      ],
      "metadata": {
        "id": "MGb-c4lrX3i2",
        "colab": {
          "base_uri": "https://localhost:8080/"
        },
        "outputId": "397bf55e-92a9-42a3-b132-018b4b652a10"
      },
      "id": "MGb-c4lrX3i2",
      "execution_count": null,
      "outputs": [
        {
          "output_type": "stream",
          "name": "stdout",
          "text": [
            "150/150 [==============================] - 0s 2ms/step\n"
          ]
        },
        {
          "output_type": "execute_result",
          "data": {
            "text/plain": [
              "array([[0.12528478, 0.33525446, 0.26679593, 0.27266482],\n",
              "       [0.13209116, 0.33207217, 0.2719996 , 0.2638371 ],\n",
              "       [0.12082714, 0.3366919 , 0.26280427, 0.27967674],\n",
              "       ...,\n",
              "       [0.1069921 , 0.34051967, 0.24873444, 0.3037538 ],\n",
              "       [0.1325792 , 0.3321072 , 0.27208534, 0.2632282 ],\n",
              "       [0.13434239, 0.33125   , 0.2733511 , 0.2610565 ]], dtype=float32)"
            ]
          },
          "metadata": {},
          "execution_count": 117
        }
      ]
    },
    {
      "cell_type": "code",
      "execution_count": null,
      "id": "841d1e30-e448-4b53-b3fc-9b97863391bb",
      "metadata": {
        "id": "841d1e30-e448-4b53-b3fc-9b97863391bb"
      },
      "outputs": [],
      "source": [
        "###################################\n",
        " #CSV Creation\n",
        "id = range(len(predictions))\n",
        "answers=[]\n",
        "for loop in predictions:\n",
        "  max=0\n",
        "  count=0\n",
        "  for j in range(len(loop)):\n",
        "    if loop[j]>max:\n",
        "      max=loop[j]\n",
        "      count=j\n",
        "  answers.append(count)\n",
        "\n",
        "df = pd.DataFrame({'id': id, 'target': answers})\n",
        "\n",
        "df.to_csv('X_test.csv', index=False)\n",
        "\n",
        "###################################"
      ]
    }
  ],
  "metadata": {
    "colab": {
      "provenance": [],
      "gpuType": "V100"
    },
    "kernelspec": {
      "display_name": "Python 3",
      "name": "python3"
    },
    "language_info": {
      "codemirror_mode": {
        "name": "ipython",
        "version": 3
      },
      "file_extension": ".py",
      "mimetype": "text/x-python",
      "name": "python",
      "nbconvert_exporter": "python",
      "pygments_lexer": "ipython3",
      "version": "3.10.12"
    },
    "accelerator": "GPU"
  },
  "nbformat": 4,
  "nbformat_minor": 5
}