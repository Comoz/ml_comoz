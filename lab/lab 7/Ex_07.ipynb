{
  "cells": [
    {
      "cell_type": "markdown",
      "id": "9457fdc4-1690-4c41-8e88-1597fc2a687c",
      "metadata": {
        "id": "9457fdc4-1690-4c41-8e88-1597fc2a687c"
      },
      "source": [
        " # MPA-MLF, Lab 7 - Convolutional Neural Network"
      ]
    },
    {
      "cell_type": "markdown",
      "id": "ffa6be62-ed89-4801-b297-f1a1211ce297",
      "metadata": {
        "id": "ffa6be62-ed89-4801-b297-f1a1211ce297"
      },
      "source": [
        "## Exercise - Hand-written digits recognition"
      ]
    },
    {
      "cell_type": "markdown",
      "id": "89808395-7ffe-4df1-91e5-f31ce090b932",
      "metadata": {
        "id": "89808395-7ffe-4df1-91e5-f31ce090b932"
      },
      "source": [
        "Create CNN which will process and recognize handwritten digits. For this purposes please use the MNIST database (Modified National Institute of Standards and Technology database) which is a large database of handwritten digits that is commonly used for training various image processing systems.\n",
        "\n",
        "The datasample of the MNIST datasets can be see in the following picture"
      ]
    },
    {
      "cell_type": "markdown",
      "id": "87b6e2b8-73da-4476-b47d-2f4aafead049",
      "metadata": {
        "id": "87b6e2b8-73da-4476-b47d-2f4aafead049"
      },
      "source": [
        "![mnist_data_sample.png](attachment:eb3e0d6a-ccb0-499d-9847-ecbc554dbce0.png)"
      ]
    },
    {
      "cell_type": "markdown",
      "id": "0c65f181-d971-4f0e-ba63-17c242a65d6c",
      "metadata": {
        "id": "0c65f181-d971-4f0e-ba63-17c242a65d6c"
      },
      "source": [
        "### Task description"
      ]
    },
    {
      "cell_type": "markdown",
      "id": "1b6b04cf-eeec-404a-824b-f9aa1d3b7d7a",
      "metadata": {
        "id": "1b6b04cf-eeec-404a-824b-f9aa1d3b7d7a"
      },
      "source": [
        "In the terms of machine learning, the Hand-written digits recognition can be threated as a multi-class classification problem. This is very important knowledge to structure our model in the correct way (Especially the output-layer, including the number of neurons and activations function and the overall loss function and classification metrics)"
      ]
    },
    {
      "cell_type": "markdown",
      "id": "b724de14-3931-4983-b443-7e0106d190dc",
      "metadata": {
        "id": "b724de14-3931-4983-b443-7e0106d190dc"
      },
      "source": [
        "### 0. Import libraries"
      ]
    },
    {
      "cell_type": "markdown",
      "id": "1ffd9b11-f9c1-4b3f-8dd1-cbb18487a075",
      "metadata": {
        "id": "1ffd9b11-f9c1-4b3f-8dd1-cbb18487a075"
      },
      "source": [
        "Import the all necessary libraries, you can get inspired by the previous exercises. You can improst the libraries gradually, when do you progressing with the task"
      ]
    },
    {
      "cell_type": "code",
      "execution_count": 16,
      "id": "1f692dd4-0262-4e7a-b029-69d8280f14d2",
      "metadata": {
        "id": "1f692dd4-0262-4e7a-b029-69d8280f14d2"
      },
      "outputs": [],
      "source": [
        "from tensorflow import keras\n",
        "from keras.models import Sequential\n",
        "from keras.datasets import mnist\n",
        "import numpy as np\n",
        "import matplotlib\n",
        "import matplotlib.pyplot as plt\n",
        "###################################\n",
        "# Write your own code here #\n",
        "\n",
        "from keras.utils import to_categorical\n",
        "from keras.layers import Conv2D, MaxPooling2D, Flatten, Dense\n",
        "from keras.optimizers import Adamax\n",
        "from keras.callbacks import EarlyStopping\n",
        "\n",
        "\n",
        "\n",
        "###################################\n",
        "font = {'weight' : 'bold',\n",
        "        'size'   : 12}\n",
        "\n",
        "matplotlib.rc('font', **font)"
      ]
    },
    {
      "cell_type": "markdown",
      "id": "9c4af957-fee1-4806-9d68-797d74c332df",
      "metadata": {
        "id": "9c4af957-fee1-4806-9d68-797d74c332df"
      },
      "source": [
        "### 1. Dataset"
      ]
    },
    {
      "cell_type": "markdown",
      "id": "33cf2443-c2ed-4aaa-9b10-fa598a4fb6cb",
      "metadata": {
        "id": "33cf2443-c2ed-4aaa-9b10-fa598a4fb6cb"
      },
      "source": [
        "#### 1.1 Load Dataset"
      ]
    },
    {
      "cell_type": "markdown",
      "id": "dd860d81-ab4d-48d2-a071-e0e8aec8000f",
      "metadata": {
        "id": "dd860d81-ab4d-48d2-a071-e0e8aec8000f"
      },
      "source": [
        "You can load the dataset using the following code"
      ]
    },
    {
      "cell_type": "code",
      "execution_count": 2,
      "id": "1b6f52dc-788b-4481-95f2-c4de31cae037",
      "metadata": {
        "colab": {
          "base_uri": "https://localhost:8080/"
        },
        "id": "1b6f52dc-788b-4481-95f2-c4de31cae037",
        "outputId": "d892ec9b-dbae-48ac-fbc6-b1e3c6f57a4f"
      },
      "outputs": [
        {
          "output_type": "stream",
          "name": "stdout",
          "text": [
            "Downloading data from https://storage.googleapis.com/tensorflow/tf-keras-datasets/mnist.npz\n",
            "11490434/11490434 [==============================] - 2s 0us/step\n"
          ]
        }
      ],
      "source": [
        "(X_train, y_train), (X_test, y_test) = mnist.load_data()"
      ]
    },
    {
      "cell_type": "markdown",
      "id": "853727ee-5836-4345-84dd-b0135b33e6d3",
      "metadata": {
        "id": "853727ee-5836-4345-84dd-b0135b33e6d3"
      },
      "source": [
        "#### 1.2 Dataset examination"
      ]
    },
    {
      "cell_type": "markdown",
      "id": "93e9f48e-3192-494a-9b0f-e2f66a7c286e",
      "metadata": {
        "id": "93e9f48e-3192-494a-9b0f-e2f66a7c286e"
      },
      "source": [
        "Using the following code, display random images,"
      ]
    },
    {
      "cell_type": "code",
      "execution_count": 3,
      "id": "522d7c5e-f50b-46d0-b79d-799d40ff2f1e",
      "metadata": {
        "id": "522d7c5e-f50b-46d0-b79d-799d40ff2f1e"
      },
      "outputs": [],
      "source": [
        "def display_random_images(x_data: np.array, y_data: np.array, count: int = 10) -> None:\n",
        "  index = np.array(len(x_data))\n",
        "  selected_ind = np.random.choice(index, count)\n",
        "\n",
        "  selected_img = x_data[selected_ind]\n",
        "  selected_labels = y_data[selected_ind]\n",
        "  concat_img = np.concatenate(selected_img, axis=1)\n",
        "\n",
        "  plt.figure(figsize=(20,10))\n",
        "  plt.imshow(concat_img, cmap=\"gray\")\n",
        "\n",
        "  for id_label, label in enumerate(selected_labels):\n",
        "    plt.text(14 + 28*id_label, 28*(5/4), label)\n",
        "  plt.axis('off')\n",
        "  plt.show()"
      ]
    },
    {
      "cell_type": "code",
      "execution_count": 4,
      "id": "452ea9c5-8438-4b10-8a0e-ef0e418ba5a0",
      "metadata": {
        "colab": {
          "base_uri": "https://localhost:8080/",
          "height": 141
        },
        "id": "452ea9c5-8438-4b10-8a0e-ef0e418ba5a0",
        "outputId": "bee0980a-8c9d-4003-d18e-5bc7da11cb2c"
      },
      "outputs": [
        {
          "output_type": "display_data",
          "data": {
            "text/plain": [
              "<Figure size 2000x1000 with 1 Axes>"
            ],
            "image/png": "[encoded data removed]"
          },
          "metadata": {}
        }
      ],
      "source": [
        "display_random_images(X_train, y_train)"
      ]
    },
    {
      "cell_type": "markdown",
      "id": "6c0e3651-3921-4485-bdae-3731afcf03a2",
      "metadata": {
        "id": "6c0e3651-3921-4485-bdae-3731afcf03a2"
      },
      "source": [
        "Examine the dataset. Answer for yourself the following questions:\n",
        "\n",
        "- What kind of data occurs in our dataset?\n",
        "- How many data samples do we have in train and test datasets?\n",
        "- How many colour channels does the input variable have?\n",
        "- What is the size of the input images?\n",
        "- What is the necessary preprocessing of the input data X?\n",
        "- How many classes do we have in target variable?\n",
        "- What is the necessary preprocessing of target variable y?"
      ]
    },
    {
      "cell_type": "markdown",
      "id": "08273dd4-05d0-4cd8-b989-eca8a4d1328a",
      "metadata": {
        "id": "08273dd4-05d0-4cd8-b989-eca8a4d1328a"
      },
      "source": [
        "#### 1.3 Dataset preprocessing"
      ]
    },
    {
      "cell_type": "markdown",
      "id": "2c16ee55-312f-4ee5-86cd-e09426e16e82",
      "metadata": {
        "id": "2c16ee55-312f-4ee5-86cd-e09426e16e82"
      },
      "source": [
        "Perform the necessary data preprocessing. The best way to preprocess the data would be one hot encoding for the target variable and normalization for the input variable (using min-max or z-score normalization)"
      ]
    },
    {
      "cell_type": "code",
      "source": [
        "X_train.shape"
      ],
      "metadata": {
        "colab": {
          "base_uri": "https://localhost:8080/"
        },
        "id": "0CBgfu5XBUKt",
        "outputId": "a780c7fb-c8ac-49dd-dbed-b4256de662f0"
      },
      "id": "0CBgfu5XBUKt",
      "execution_count": 5,
      "outputs": [
        {
          "output_type": "execute_result",
          "data": {
            "text/plain": [
              "(60000, 28, 28)"
            ]
          },
          "metadata": {},
          "execution_count": 5
        }
      ]
    },
    {
      "cell_type": "code",
      "execution_count": 6,
      "id": "e07697fb-0feb-4df1-8ed2-b7b20f0c015f",
      "metadata": {
        "id": "e07697fb-0feb-4df1-8ed2-b7b20f0c015f"
      },
      "outputs": [],
      "source": [
        "###################################\n",
        "# Write your own code here #\n",
        "#X is already a 2D image, not needing any preprocessing yet (it will have to be flatten before the fully connected layer)\n",
        "#Y will need to be one-hot-encode\n",
        "X_train = X_train.astype('float32') / 255.0\n",
        "\n",
        "y_train_encoded = to_categorical(y_train, num_classes=10)\n",
        "\n",
        "\n",
        "\n",
        "###################################"
      ]
    },
    {
      "cell_type": "markdown",
      "id": "d20d5fef-cbca-48a2-844f-c9638f0b6bf9",
      "metadata": {
        "id": "d20d5fef-cbca-48a2-844f-c9638f0b6bf9"
      },
      "source": [
        "### 2. Build the model"
      ]
    },
    {
      "cell_type": "markdown",
      "id": "ea554fcf-7acd-4453-b18d-b4982f6a10eb",
      "metadata": {
        "id": "ea554fcf-7acd-4453-b18d-b4982f6a10eb"
      },
      "source": [
        "In this section, your task will be to define the model architecture. The intial structure can be defined as follows:\n",
        "\n",
        "Input_layer -> Convolutional_layer(kernel_size=(3,3), no_channels=32) -> Maxpooling_layer(kernel_size=(2, 2)) -> Flatten_layer -> Dense_layer (num_classes)\n",
        "    \n",
        "    \n"
      ]
    },
    {
      "cell_type": "markdown",
      "id": "0ffd3896-079e-4758-9579-387f33af9691",
      "metadata": {
        "id": "0ffd3896-079e-4758-9579-387f33af9691"
      },
      "source": [
        "#### 2.1 Define the model structure"
      ]
    },
    {
      "cell_type": "code",
      "execution_count": 7,
      "id": "77238bdf-ad74-4246-920d-a1dc28564306",
      "metadata": {
        "id": "77238bdf-ad74-4246-920d-a1dc28564306"
      },
      "outputs": [],
      "source": [
        "model = Sequential()\n",
        "###################################\n",
        "# Write your own code here #\n",
        "model.add(Conv2D(64,5,activation='relu', input_shape=(28,28,1)))\n",
        "model.add(MaxPooling2D(pool_size=(2, 2)))\n",
        "model.add(Conv2D(128,3,activation='sigmoid',input_shape=(28,28,1)))\n",
        "model.add(MaxPooling2D(pool_size=(2, 2)))\n",
        "\n",
        "model.add(Flatten())\n",
        "\n",
        "model.add(Dense(128, activation='sigmoid'))\n",
        "model.add(Dense(10, activation='softmax'))\n",
        "\n",
        "\n",
        "###################################\n"
      ]
    },
    {
      "cell_type": "markdown",
      "id": "fde4b3eb-90e1-4724-89df-0db1872560d4",
      "metadata": {
        "id": "fde4b3eb-90e1-4724-89df-0db1872560d4"
      },
      "source": [
        "#### 2.2 Compile the model"
      ]
    },
    {
      "cell_type": "markdown",
      "id": "a467f8fb-8bfc-4cd4-9eee-820c1b9b5a52",
      "metadata": {
        "id": "a467f8fb-8bfc-4cd4-9eee-820c1b9b5a52"
      },
      "source": [
        "Build the model, use the relevant metrics, optimizer and loss function. While choosing the metrics and loss function, consider fact that we are are trying to solve the multiclass classification problem"
      ]
    },
    {
      "cell_type": "code",
      "execution_count": 8,
      "id": "e6d1a924-9e2f-4ca2-b4d6-4724f51ae065",
      "metadata": {
        "colab": {
          "base_uri": "https://localhost:8080/"
        },
        "id": "e6d1a924-9e2f-4ca2-b4d6-4724f51ae065",
        "outputId": "16608d84-2ee5-442a-b4aa-ac575345b87b"
      },
      "outputs": [
        {
          "output_type": "stream",
          "name": "stdout",
          "text": [
            "Model: \"sequential\"\n",
            "_________________________________________________________________\n",
            " Layer (type)                Output Shape              Param #   \n",
            "=================================================================\n",
            " conv2d (Conv2D)             (None, 24, 24, 64)        1664      \n",
            "                                                                 \n",
            " max_pooling2d (MaxPooling2  (None, 12, 12, 64)        0         \n",
            " D)                                                              \n",
            "                                                                 \n",
            " conv2d_1 (Conv2D)           (None, 10, 10, 128)       73856     \n",
            "                                                                 \n",
            " max_pooling2d_1 (MaxPoolin  (None, 5, 5, 128)         0         \n",
            " g2D)                                                            \n",
            "                                                                 \n",
            " flatten (Flatten)           (None, 3200)              0         \n",
            "                                                                 \n",
            " dense (Dense)               (None, 128)               409728    \n",
            "                                                                 \n",
            " dense_1 (Dense)             (None, 10)                1290      \n",
            "                                                                 \n",
            "=================================================================\n",
            "Total params: 486538 (1.86 MB)\n",
            "Trainable params: 486538 (1.86 MB)\n",
            "Non-trainable params: 0 (0.00 Byte)\n",
            "_________________________________________________________________\n"
          ]
        }
      ],
      "source": [
        "\n",
        "###################################\n",
        "# Write your own code here #\n",
        "\n",
        "optimizer = Adamax(learning_rate = 0.0001)\n",
        "model.compile(loss='categorical_crossentropy', optimizer=optimizer, metrics=['accuracy'])\n",
        "\n",
        "###################################\n",
        "#For some reason I can not launch it at that point without a crash\n",
        "model.summary()"
      ]
    },
    {
      "cell_type": "markdown",
      "id": "f146b70f-2e8c-484f-abfd-6fc4a8b8177b",
      "metadata": {
        "id": "f146b70f-2e8c-484f-abfd-6fc4a8b8177b"
      },
      "source": [
        "### 3. Training stage"
      ]
    },
    {
      "cell_type": "markdown",
      "id": "cb1de787-9e40-47e2-bc54-44ccd1864357",
      "metadata": {
        "id": "cb1de787-9e40-47e2-bc54-44ccd1864357"
      },
      "source": [
        "#### 3.1 Model training"
      ]
    },
    {
      "cell_type": "markdown",
      "id": "2b9c7722-aed7-4b2d-a292-572921f0734b",
      "metadata": {
        "id": "2b9c7722-aed7-4b2d-a292-572921f0734b"
      },
      "source": [
        "train your model, define the relevant hyperparameters (no. epochs, batch_size), use 20p of the training data for validation"
      ]
    },
    {
      "cell_type": "code",
      "execution_count": 19,
      "id": "4f858566-601d-4873-ad02-a0635bd8f526",
      "metadata": {
        "colab": {
          "base_uri": "https://localhost:8080/"
        },
        "id": "4f858566-601d-4873-ad02-a0635bd8f526",
        "outputId": "11935425-96b1-4bce-e4a6-218850c57289"
      },
      "outputs": [
        {
          "output_type": "stream",
          "name": "stdout",
          "text": [
            "Epoch 1/40\n",
            "320/320 [==============================] - 2s 7ms/step - loss: 0.0133 - accuracy: 0.9976 - val_loss: 0.0393 - val_accuracy: 0.9876\n",
            "Epoch 2/40\n",
            "320/320 [==============================] - 2s 7ms/step - loss: 0.0131 - accuracy: 0.9977 - val_loss: 0.0388 - val_accuracy: 0.9883\n",
            "Epoch 3/40\n",
            "320/320 [==============================] - 2s 7ms/step - loss: 0.0129 - accuracy: 0.9978 - val_loss: 0.0386 - val_accuracy: 0.9885\n",
            "Epoch 4/40\n",
            "320/320 [==============================] - 2s 8ms/step - loss: 0.0128 - accuracy: 0.9979 - val_loss: 0.0387 - val_accuracy: 0.9887\n",
            "Epoch 5/40\n",
            "320/320 [==============================] - 2s 8ms/step - loss: 0.0126 - accuracy: 0.9980 - val_loss: 0.0385 - val_accuracy: 0.9883\n",
            "Epoch 6/40\n",
            "320/320 [==============================] - 2s 7ms/step - loss: 0.0124 - accuracy: 0.9979 - val_loss: 0.0387 - val_accuracy: 0.9883\n",
            "Epoch 7/40\n",
            "320/320 [==============================] - 2s 7ms/step - loss: 0.0122 - accuracy: 0.9980 - val_loss: 0.0386 - val_accuracy: 0.9878\n",
            "Epoch 8/40\n",
            "320/320 [==============================] - 2s 7ms/step - loss: 0.0122 - accuracy: 0.9979 - val_loss: 0.0386 - val_accuracy: 0.9883\n",
            "Epoch 9/40\n",
            "320/320 [==============================] - 2s 7ms/step - loss: 0.0120 - accuracy: 0.9980 - val_loss: 0.0390 - val_accuracy: 0.9883\n",
            "Epoch 10/40\n",
            "320/320 [==============================] - 3s 8ms/step - loss: 0.0119 - accuracy: 0.9981 - val_loss: 0.0383 - val_accuracy: 0.9884\n",
            "Epoch 11/40\n",
            "320/320 [==============================] - 2s 7ms/step - loss: 0.0118 - accuracy: 0.9981 - val_loss: 0.0382 - val_accuracy: 0.9884\n",
            "Epoch 12/40\n",
            "320/320 [==============================] - 2s 7ms/step - loss: 0.0116 - accuracy: 0.9981 - val_loss: 0.0382 - val_accuracy: 0.9884\n",
            "Epoch 13/40\n",
            "320/320 [==============================] - 2s 7ms/step - loss: 0.0114 - accuracy: 0.9982 - val_loss: 0.0385 - val_accuracy: 0.9881\n",
            "Epoch 14/40\n",
            "320/320 [==============================] - 2s 7ms/step - loss: 0.0112 - accuracy: 0.9983 - val_loss: 0.0381 - val_accuracy: 0.9883\n",
            "Epoch 15/40\n",
            "320/320 [==============================] - 3s 8ms/step - loss: 0.0111 - accuracy: 0.9983 - val_loss: 0.0383 - val_accuracy: 0.9886\n",
            "Epoch 16/40\n",
            "320/320 [==============================] - 2s 7ms/step - loss: 0.0110 - accuracy: 0.9983 - val_loss: 0.0381 - val_accuracy: 0.9884\n",
            "Epoch 17/40\n",
            "320/320 [==============================] - 2s 7ms/step - loss: 0.0109 - accuracy: 0.9983 - val_loss: 0.0388 - val_accuracy: 0.9889\n",
            "Epoch 18/40\n",
            "320/320 [==============================] - 2s 7ms/step - loss: 0.0108 - accuracy: 0.9982 - val_loss: 0.0386 - val_accuracy: 0.9888\n",
            "Epoch 19/40\n",
            "320/320 [==============================] - 2s 7ms/step - loss: 0.0106 - accuracy: 0.9985 - val_loss: 0.0382 - val_accuracy: 0.9886\n",
            "Epoch 20/40\n",
            "320/320 [==============================] - 3s 8ms/step - loss: 0.0105 - accuracy: 0.9984 - val_loss: 0.0381 - val_accuracy: 0.9886\n",
            "Epoch 21/40\n",
            "320/320 [==============================] - 2s 7ms/step - loss: 0.0103 - accuracy: 0.9984 - val_loss: 0.0378 - val_accuracy: 0.9885\n",
            "Epoch 22/40\n",
            "320/320 [==============================] - 2s 7ms/step - loss: 0.0102 - accuracy: 0.9985 - val_loss: 0.0380 - val_accuracy: 0.9885\n",
            "Epoch 23/40\n",
            "320/320 [==============================] - 2s 7ms/step - loss: 0.0101 - accuracy: 0.9985 - val_loss: 0.0384 - val_accuracy: 0.9886\n",
            "Epoch 24/40\n",
            "320/320 [==============================] - 2s 7ms/step - loss: 0.0100 - accuracy: 0.9985 - val_loss: 0.0378 - val_accuracy: 0.9887\n",
            "Epoch 25/40\n",
            "320/320 [==============================] - 2s 7ms/step - loss: 0.0098 - accuracy: 0.9986 - val_loss: 0.0376 - val_accuracy: 0.9883\n",
            "Epoch 26/40\n",
            "320/320 [==============================] - 3s 8ms/step - loss: 0.0097 - accuracy: 0.9986 - val_loss: 0.0379 - val_accuracy: 0.9886\n",
            "Epoch 27/40\n",
            "320/320 [==============================] - 2s 7ms/step - loss: 0.0096 - accuracy: 0.9987 - val_loss: 0.0381 - val_accuracy: 0.9887\n",
            "Epoch 28/40\n",
            "320/320 [==============================] - 2s 7ms/step - loss: 0.0095 - accuracy: 0.9985 - val_loss: 0.0377 - val_accuracy: 0.9887\n",
            "Epoch 29/40\n",
            "320/320 [==============================] - 2s 7ms/step - loss: 0.0094 - accuracy: 0.9987 - val_loss: 0.0381 - val_accuracy: 0.9887\n",
            "Epoch 30/40\n",
            "320/320 [==============================] - 2s 7ms/step - loss: 0.0093 - accuracy: 0.9987 - val_loss: 0.0380 - val_accuracy: 0.9887\n",
            "Epoch 31/40\n",
            "320/320 [==============================] - 3s 8ms/step - loss: 0.0092 - accuracy: 0.9987 - val_loss: 0.0376 - val_accuracy: 0.9883\n",
            "Epoch 32/40\n",
            "320/320 [==============================] - 2s 7ms/step - loss: 0.0091 - accuracy: 0.9988 - val_loss: 0.0374 - val_accuracy: 0.9886\n",
            "Epoch 33/40\n",
            "320/320 [==============================] - 2s 7ms/step - loss: 0.0089 - accuracy: 0.9988 - val_loss: 0.0376 - val_accuracy: 0.9890\n",
            "Epoch 34/40\n",
            "320/320 [==============================] - 2s 7ms/step - loss: 0.0088 - accuracy: 0.9989 - val_loss: 0.0374 - val_accuracy: 0.9890\n",
            "Epoch 35/40\n",
            "320/320 [==============================] - 2s 7ms/step - loss: 0.0087 - accuracy: 0.9988 - val_loss: 0.0374 - val_accuracy: 0.9890\n",
            "Epoch 36/40\n",
            "320/320 [==============================] - 3s 9ms/step - loss: 0.0086 - accuracy: 0.9989 - val_loss: 0.0379 - val_accuracy: 0.9889\n",
            "Epoch 37/40\n",
            "320/320 [==============================] - 2s 7ms/step - loss: 0.0085 - accuracy: 0.9989 - val_loss: 0.0376 - val_accuracy: 0.9883\n",
            "Epoch 38/40\n",
            "320/320 [==============================] - 2s 7ms/step - loss: 0.0084 - accuracy: 0.9989 - val_loss: 0.0375 - val_accuracy: 0.9887\n",
            "Epoch 39/40\n",
            "320/320 [==============================] - 2s 7ms/step - loss: 0.0082 - accuracy: 0.9991 - val_loss: 0.0377 - val_accuracy: 0.9883\n",
            "Epoch 40/40\n",
            "320/320 [==============================] - 2s 7ms/step - loss: 0.0082 - accuracy: 0.9990 - val_loss: 0.0379 - val_accuracy: 0.9885\n"
          ]
        }
      ],
      "source": [
        "###################################\n",
        "# Write your own code here #\n",
        "callback = EarlyStopping(monitor='loss', patience=3)\n",
        "history = model.fit(X_train, y_train_encoded, epochs=40, batch_size=150, validation_split = 0.2, callbacks=[callback])\n",
        "\n",
        "\n",
        "###################################"
      ]
    },
    {
      "cell_type": "markdown",
      "id": "45651f2d-5cc4-4896-8edc-f58b50fed605",
      "metadata": {
        "id": "45651f2d-5cc4-4896-8edc-f58b50fed605"
      },
      "source": [
        "#### 3.1 Model Evaluation on validation data"
      ]
    },
    {
      "cell_type": "markdown",
      "id": "eb4ea2f2-fcc8-4308-82f6-3dbd5857e989",
      "metadata": {
        "id": "eb4ea2f2-fcc8-4308-82f6-3dbd5857e989"
      },
      "source": [
        "Plot the development of the training and validation loss, and training and validation metrics."
      ]
    },
    {
      "cell_type": "code",
      "execution_count": 20,
      "metadata": {
        "id": "QosoRwB5Tbdx"
      },
      "outputs": [],
      "source": [
        "#Do not rerun it\n",
        "#X_test = X_test.astype('float32') / 255.0\n",
        "y_test_encoded = to_categorical(y_test, num_classes=10)"
      ],
      "id": "QosoRwB5Tbdx"
    },
    {
      "cell_type": "code",
      "execution_count": 21,
      "id": "841d1e30-e448-4b53-b3fc-9b97863391bb",
      "metadata": {
        "colab": {
          "base_uri": "https://localhost:8080/"
        },
        "id": "841d1e30-e448-4b53-b3fc-9b97863391bb",
        "outputId": "cc98e5c1-0bab-4297-f6be-efa1587aea89"
      },
      "outputs": [
        {
          "output_type": "stream",
          "name": "stdout",
          "text": [
            "Test loss: 0.026842480525374413\n",
            "Test accuracy: 99.11999702453613 %\n"
          ]
        }
      ],
      "source": [
        "###################################\n",
        "# Write your own code here #\n",
        "\n",
        "score = model.evaluate(X_test, y_test_encoded, verbose=0)\n",
        "print('Test loss:', score[0])\n",
        "print(f'Test accuracy: {score[1]*100} %')\n",
        "\n",
        "###################################"
      ]
    },
    {
      "cell_type": "markdown",
      "id": "22cd86fb-6b4c-4299-a077-fec0ab62464c",
      "metadata": {
        "id": "22cd86fb-6b4c-4299-a077-fec0ab62464c"
      },
      "source": [
        "### 4. Model evaluation"
      ]
    },
    {
      "cell_type": "markdown",
      "id": "9d93b7ad-3416-451d-8762-968f4cf1dd13",
      "metadata": {
        "id": "9d93b7ad-3416-451d-8762-968f4cf1dd13"
      },
      "source": [
        "Evaluate the model on the testing dataset using the relevant metrics. Use the confusion metrics as the one of the metrics."
      ]
    },
    {
      "cell_type": "code",
      "execution_count": null,
      "id": "8134b757-aca1-4a0d-a0d2-3a3d0daa8d38",
      "metadata": {
        "id": "8134b757-aca1-4a0d-a0d2-3a3d0daa8d38"
      },
      "outputs": [],
      "source": [
        "###################################\n",
        "# Write your own code here #\n",
        "\n",
        "\n",
        "\n",
        "###################################"
      ]
    },
    {
      "cell_type": "markdown",
      "id": "44a3f72d-1d76-4d98-9f03-1f8293ed6ad6",
      "metadata": {
        "id": "44a3f72d-1d76-4d98-9f03-1f8293ed6ad6"
      },
      "source": [
        "### 5. Hyperparameter tunning and regularization techniques"
      ]
    },
    {
      "cell_type": "markdown",
      "id": "e6140057-ce25-4e97-ae7b-81a47a30bebc",
      "metadata": {
        "id": "e6140057-ce25-4e97-ae7b-81a47a30bebc"
      },
      "source": [
        "When your code is ready and fully functional, try several changes in the hyperparameters and see how they influence the testing metrics. Try changes in the network structure. You can also try adding regularization techniques such as L1, L2, and Dropout. Based on the development of training and validation loss, try to identify overfitting and avoid it"
      ]
    },
    {
      "cell_type": "code",
      "execution_count": null,
      "id": "f1f4b10b-7487-45f4-8702-267715e4041c",
      "metadata": {
        "id": "f1f4b10b-7487-45f4-8702-267715e4041c"
      },
      "outputs": [],
      "source": []
    }
  ],
  "metadata": {
    "kernelspec": {
      "display_name": "Python 3",
      "name": "python3"
    },
    "language_info": {
      "codemirror_mode": {
        "name": "ipython",
        "version": 3
      },
      "file_extension": ".py",
      "mimetype": "text/x-python",
      "name": "python",
      "nbconvert_exporter": "python",
      "pygments_lexer": "ipython3",
      "version": "3.10.12"
    },
    "colab": {
      "provenance": [],
      "gpuType": "T4"
    },
    "accelerator": "GPU"
  },
  "nbformat": 4,
  "nbformat_minor": 5
}